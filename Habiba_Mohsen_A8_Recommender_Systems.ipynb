{
  "nbformat": 4,
  "nbformat_minor": 0,
  "metadata": {
    "colab": {
      "provenance": []
    },
    "kernelspec": {
      "name": "python3",
      "display_name": "Python 3"
    },
    "language_info": {
      "name": "python"
    }
  },
  "cells": [
    {
      "cell_type": "code",
      "execution_count": 1,
      "metadata": {
        "id": "KDD85-0Jlvpx"
      },
      "outputs": [],
      "source": [
        "import pandas as pd\n",
        "from sklearn.metrics.pairwise import cosine_similarity\n",
        "import seaborn as sns"
      ]
    },
    {
      "cell_type": "code",
      "source": [
        "ratings_unfiltered = pd.read_csv('ratings.csv')\n",
        "movies_unfiltered = pd.read_csv('movies.csv')"
      ],
      "metadata": {
        "id": "cxSowa2fnrNC"
      },
      "execution_count": 16,
      "outputs": []
    },
    {
      "cell_type": "code",
      "source": [
        "def filter_data(ratings, movies, user_limit=200, movie_limit=200):\n",
        "    filtered_ratings = ratings[ratings['userId'] <= user_limit]\n",
        "    filtered_movies = movies[movies['movieId'] <= movie_limit]\n",
        "    return filtered_ratings, filtered_movies"
      ],
      "metadata": {
        "id": "oWNfqUXJxHre"
      },
      "execution_count": 19,
      "outputs": []
    },
    {
      "cell_type": "code",
      "source": [
        "def standardize_ratings(df):\n",
        "    df['rating'] = (df['rating'] - df['rating'].min()) / (df['rating'].max() - df['rating'].min())\n",
        "    return df"
      ],
      "metadata": {
        "id": "1IpMWSMqxIpC"
      },
      "execution_count": 20,
      "outputs": []
    },
    {
      "cell_type": "code",
      "source": [
        "def create_user_movie_matrix(df):\n",
        "    return df.pivot(index='userId', columns='movieId', values='rating').fillna(0)"
      ],
      "metadata": {
        "id": "Y0yfa0NLxM5Q"
      },
      "execution_count": 21,
      "outputs": []
    },
    {
      "cell_type": "code",
      "source": [
        "def compute_similarity_matrix(user_movie_matrix):\n",
        "    similarity_matrix = cosine_similarity(user_movie_matrix.T)\n",
        "    return pd.DataFrame(similarity_matrix, index=user_movie_matrix.columns, columns=user_movie_matrix.columns)"
      ],
      "metadata": {
        "id": "bs_QrfpMxRO8"
      },
      "execution_count": 22,
      "outputs": []
    },
    {
      "cell_type": "code",
      "source": [
        "def get_top_n_similar_movies(movie_similarity_df, movie_id_to_title, movie_id, top_n=10):\n",
        "    similar_movies = movie_similarity_df[movie_id].sort_values(ascending=False).index.tolist()\n",
        "    similar_movie_titles = [movie_id_to_title[mid] for mid in similar_movies[1:top_n+1]]  # Exclude the movie itself\n",
        "    return similar_movie_titles"
      ],
      "metadata": {
        "id": "j0GESaajxYrA"
      },
      "execution_count": 23,
      "outputs": []
    },
    {
      "cell_type": "code",
      "source": [
        "ratings, movies = filter_data(ratings_unfiltered, movies_unfiltered)\n",
        "df = pd.merge(ratings, movies, on=\"movieId\")\n",
        "df = standardize_ratings(df)\n",
        "user_movie_matrix = create_user_movie_matrix(df)\n",
        "movie_similarity_df = compute_similarity_matrix(user_movie_matrix)\n",
        "\n",
        "# Create a mapping from movieId to title\n",
        "movie_id_to_title = movies.set_index('movieId')['title'].to_dict()\n",
        "\n",
        "# Get Recommendations\n",
        "toy_story_recommendations = get_top_n_similar_movies(movie_similarity_df, movie_id_to_title, 1)  # Toy Story (1995)\n",
        "waiting_to_exhale_recommendations = get_top_n_similar_movies(movie_similarity_df, movie_id_to_title, 4)  # Waiting to Exhale (1995)\n",
        "\n",
        "# Output recommendations\n",
        "print(\"Top 10 similar movies to 'Toy Story (1995)':\", toy_story_recommendations)\n",
        "print(\"Top 10 similar movies to 'Waiting to Exhale (1995)':\", waiting_to_exhale_recommendations)"
      ],
      "metadata": {
        "colab": {
          "base_uri": "https://localhost:8080/"
        },
        "id": "-iBWVd91xcQe",
        "outputId": "76b7b0bd-52a7-4351-b533-467de8f0fbbb"
      },
      "execution_count": 24,
      "outputs": [
        {
          "output_type": "stream",
          "name": "stdout",
          "text": [
            "Top 10 similar movies to 'Toy Story (1995)': ['Braveheart (1995)', 'Apollo 13 (1995)', 'Usual Suspects, The (1995)', 'Happy Gilmore (1996)', 'Die Hard: With a Vengeance (1995)', 'Seven (a.k.a. Se7en) (1995)', 'Babe (1995)', 'Taxi Driver (1976)', 'Twelve Monkeys (a.k.a. 12 Monkeys) (1995)', 'Batman Forever (1995)']\n",
            "Top 10 similar movies to 'Waiting to Exhale (1995)': ['Before and After (1996)', 'Mighty Morphin Power Rangers: The Movie (1995)', 'Mad Love (1995)', 'Now and Then (1995)', 'Reckless (1995)', 'Georgia (1995)', 'How to Make an American Quilt (1995)', 'Something to Talk About (1995)', 'Scarlet Letter, The (1995)', 'Big Green, The (1995)']\n"
          ]
        }
      ]
    },
    {
      "cell_type": "code",
      "source": [
        "# Recommend movies to user 200 (with titles)\n",
        "def recommend_movies_for_user(user_id, top_n=3):\n",
        "    user_ratings = user_movie_matrix.loc[user_id]\n",
        "    unseen_movies = user_ratings[user_ratings == 0].index\n",
        "    movie_scores = {}\n",
        "\n",
        "    for movie in unseen_movies:\n",
        "        similar_movies = movie_similarity_df[movie].sort_values(ascending=False).index[1:top_n+1]\n",
        "        score = sum(user_ratings[similar_movies]) / top_n\n",
        "        movie_scores[movie] = score\n",
        "\n",
        "    recommended_movies = sorted(movie_scores, key=movie_scores.get, reverse=True)[:top_n]\n",
        "    recommended_movie_titles = [movie_id_to_title[mid] for mid in recommended_movies]\n",
        "    return recommended_movie_titles\n",
        "\n",
        "user_200_recommendations = recommend_movies_for_user(200)\n",
        "\n",
        "print(\"Top 3 recommendations for user 200:\", user_200_recommendations)"
      ],
      "metadata": {
        "colab": {
          "base_uri": "https://localhost:8080/"
        },
        "id": "Xf4z2CAKueb6",
        "outputId": "62f737d7-326c-4c49-f545-a3f59a257d1a"
      },
      "execution_count": 18,
      "outputs": [
        {
          "output_type": "stream",
          "name": "stdout",
          "text": [
            "Top 3 recommendations for user 200: ['Twelve Monkeys (a.k.a. 12 Monkeys) (1995)', 'Crimson Tide (1995)', 'Batman Forever (1995)']\n"
          ]
        }
      ]
    }
  ]
}