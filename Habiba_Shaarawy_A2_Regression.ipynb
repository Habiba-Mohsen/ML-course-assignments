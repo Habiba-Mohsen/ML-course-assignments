{
  "cells": [
    {
      "cell_type": "markdown",
      "id": "a78d8cc0",
      "metadata": {
        "id": "a78d8cc0"
      },
      "source": [
        "---\n",
        "# Cairo University Faculty of Engineering\n",
        "## Machine Learning\n",
        "## Assignment 2\n",
        "\n",
        "---"
      ]
    },
    {
      "cell_type": "markdown",
      "id": "90f7867a",
      "metadata": {
        "id": "90f7867a"
      },
      "source": [
        "Please write your full name here\n",
        "- **Name** : Habiba Mohsen Ateya\n"
      ]
    },
    {
      "cell_type": "markdown",
      "id": "1a8ebf53-520f-45ca-b9ae-29a3c45cc3c5",
      "metadata": {
        "id": "1a8ebf53-520f-45ca-b9ae-29a3c45cc3c5"
      },
      "source": [
        "## Part 1 Simulated Data"
      ]
    },
    {
      "cell_type": "code",
      "execution_count": null,
      "id": "4e43c7f6-6100-4915-80da-22c0e368a9ac",
      "metadata": {
        "id": "4e43c7f6-6100-4915-80da-22c0e368a9ac",
        "outputId": "e65a489f-2c80-44ed-b9d6-7198181552c8",
        "tags": [],
        "colab": {
          "base_uri": "https://localhost:8080/",
          "height": 430
        }
      },
      "outputs": [
        {
          "output_type": "display_data",
          "data": {
            "text/plain": [
              "<Figure size 640x480 with 1 Axes>"
            ],
            "image/png": "[encoded data removed]"
          },
          "metadata": {}
        }
      ],
      "source": [
        "%matplotlib notebook\n",
        "%matplotlib inline\n",
        "\n",
        "import numpy as np\n",
        "import pandas as pd\n",
        "import matplotlib.pyplot as plt\n",
        "from sklearn.model_selection import train_test_split\n",
        "\n",
        "\n",
        "np.random.seed(0)\n",
        "n = 15\n",
        "x = np.linspace(0,10,n) + np.random.randn(n)/5\n",
        "y = np.sin(x)+x/6 + np.random.randn(n)/10\n",
        "\n",
        "\n",
        "X_train, X_test, y_train, y_test = train_test_split(x, y, random_state=0)\n",
        "\n",
        "\n",
        "plt.figure()\n",
        "plt.scatter(X_train, y_train, label='training data')\n",
        "plt.scatter(X_test, y_test, label='test data')\n",
        "plt.legend(loc=4);"
      ]
    },
    {
      "cell_type": "markdown",
      "id": "2e607277-9341-4224-ab08-1358bbbf0646",
      "metadata": {
        "id": "2e607277-9341-4224-ab08-1358bbbf0646"
      },
      "source": [
        "### Question 1.1\n",
        "- Write a function that fits a polynomial LinearRegression model on the training data X_train for degrees **1, 2, 3, 6, and 9**. (Use `PolynomialFeatures` in `sklearn.preprocessing` to create the polynomial features and then fit a linear regression model)\n",
        "- For each model, find 100 predicted values over the interval x = 0 to 10 (e.g. np.linspace(0,10,100)) and store this in a numpy array.\n",
        "- The first row of this array should correspond to the output from the model trained on degree 1, the second row degree 2, the third row degree 3, the fourth row degree 6, and the fifth row degree 9."
      ]
    },
    {
      "cell_type": "code",
      "execution_count": null,
      "id": "fb627030-cdbf-4ca3-8aae-d1299c13a8bf",
      "metadata": {
        "id": "fb627030-cdbf-4ca3-8aae-d1299c13a8bf"
      },
      "outputs": [],
      "source": [
        "def answer_one():\n",
        "      from sklearn.linear_model import LinearRegression\n",
        "      from sklearn.preprocessing import PolynomialFeatures\n",
        "\n",
        "      X_train_reshaped = X_train.reshape(-1, 1)\n",
        "\n",
        "\n",
        "      result = np.zeros((5, 100))\n",
        "\n",
        "\n",
        "      x_values = np.linspace(0, 10, 100).reshape(-1, 1)\n",
        "\n",
        "      for i, degree in enumerate([1, 2, 3, 6, 9]):\n",
        "          poly = PolynomialFeatures(degree=degree)\n",
        "          X_poly = poly.fit_transform(X_train_reshaped)\n",
        "          x_values_poly = poly.transform(x_values)\n",
        "\n",
        "          model = LinearRegression().fit(X_poly, y_train)\n",
        "          result[i, :] = model.predict(x_values_poly)\n",
        "\n",
        "      return result"
      ]
    },
    {
      "cell_type": "code",
      "execution_count": null,
      "id": "1f6d7c24",
      "metadata": {
        "colab": {
          "base_uri": "https://localhost:8080/"
        },
        "id": "1f6d7c24",
        "outputId": "8069fdf5-38f5-4f64-c2ba-f1dda917dcc2"
      },
      "outputs": [
        {
          "output_type": "stream",
          "name": "stdout",
          "text": [
            "(5, 100)\n"
          ]
        }
      ],
      "source": [
        "results = answer_one()\n",
        "print(results.shape)"
      ]
    },
    {
      "cell_type": "code",
      "execution_count": null,
      "id": "7cac2e70",
      "metadata": {
        "colab": {
          "base_uri": "https://localhost:8080/"
        },
        "id": "7cac2e70",
        "outputId": "f1e9a1c4-72ea-4eb4-e9e4-e3c12016b1b2"
      },
      "outputs": [
        {
          "output_type": "stream",
          "name": "stdout",
          "text": [
            "[[ 2.53040195e-01  2.69201547e-01  2.85362899e-01  3.01524251e-01\n",
            "   3.17685603e-01  3.33846955e-01  3.50008306e-01  3.66169658e-01\n",
            "   3.82331010e-01  3.98492362e-01  4.14653714e-01  4.30815066e-01\n",
            "   4.46976417e-01  4.63137769e-01  4.79299121e-01  4.95460473e-01\n",
            "   5.11621825e-01  5.27783177e-01  5.43944529e-01  5.60105880e-01\n",
            "   5.76267232e-01  5.92428584e-01  6.08589936e-01  6.24751288e-01\n",
            "   6.40912640e-01  6.57073992e-01  6.73235343e-01  6.89396695e-01\n",
            "   7.05558047e-01  7.21719399e-01  7.37880751e-01  7.54042103e-01\n",
            "   7.70203454e-01  7.86364806e-01  8.02526158e-01  8.18687510e-01\n",
            "   8.34848862e-01  8.51010214e-01  8.67171566e-01  8.83332917e-01\n",
            "   8.99494269e-01  9.15655621e-01  9.31816973e-01  9.47978325e-01\n",
            "   9.64139677e-01  9.80301028e-01  9.96462380e-01  1.01262373e+00\n",
            "   1.02878508e+00  1.04494644e+00  1.06110779e+00  1.07726914e+00\n",
            "   1.09343049e+00  1.10959184e+00  1.12575320e+00  1.14191455e+00\n",
            "   1.15807590e+00  1.17423725e+00  1.19039860e+00  1.20655995e+00\n",
            "   1.22272131e+00  1.23888266e+00  1.25504401e+00  1.27120536e+00\n",
            "   1.28736671e+00  1.30352807e+00  1.31968942e+00  1.33585077e+00\n",
            "   1.35201212e+00  1.36817347e+00  1.38433482e+00  1.40049618e+00\n",
            "   1.41665753e+00  1.43281888e+00  1.44898023e+00  1.46514158e+00\n",
            "   1.48130294e+00  1.49746429e+00  1.51362564e+00  1.52978699e+00\n",
            "   1.54594834e+00  1.56210969e+00  1.57827105e+00  1.59443240e+00\n",
            "   1.61059375e+00  1.62675510e+00  1.64291645e+00  1.65907781e+00\n",
            "   1.67523916e+00  1.69140051e+00  1.70756186e+00  1.72372321e+00\n",
            "   1.73988457e+00  1.75604592e+00  1.77220727e+00  1.78836862e+00\n",
            "   1.80452997e+00  1.82069132e+00  1.83685268e+00  1.85301403e+00]\n",
            " [ 5.38844184e-01  5.38465542e-01  5.38399013e-01  5.38644598e-01\n",
            "   5.39202297e-01  5.40072109e-01  5.41254034e-01  5.42748073e-01\n",
            "   5.44554226e-01  5.46672492e-01  5.49102871e-01  5.51845365e-01\n",
            "   5.54899971e-01  5.58266691e-01  5.61945525e-01  5.65936473e-01\n",
            "   5.70239533e-01  5.74854708e-01  5.79781996e-01  5.85021397e-01\n",
            "   5.90572912e-01  5.96436541e-01  6.02612283e-01  6.09100138e-01\n",
            "   6.15900107e-01  6.23012190e-01  6.30436386e-01  6.38172696e-01\n",
            "   6.46221119e-01  6.54581656e-01  6.63254307e-01  6.72239070e-01\n",
            "   6.81535948e-01  6.91144939e-01  7.01066043e-01  7.11299261e-01\n",
            "   7.21844593e-01  7.32702038e-01  7.43871597e-01  7.55353269e-01\n",
            "   7.67147055e-01  7.79252954e-01  7.91670967e-01  8.04401093e-01\n",
            "   8.17443333e-01  8.30797686e-01  8.44464153e-01  8.58442734e-01\n",
            "   8.72733428e-01  8.87336235e-01  9.02251156e-01  9.17478191e-01\n",
            "   9.33017339e-01  9.48868601e-01  9.65031976e-01  9.81507465e-01\n",
            "   9.98295067e-01  1.01539478e+00  1.03280661e+00  1.05053056e+00\n",
            "   1.06856661e+00  1.08691478e+00  1.10557507e+00  1.12454746e+00\n",
            "   1.14383197e+00  1.16342860e+00  1.18333733e+00  1.20355819e+00\n",
            "   1.22409115e+00  1.24493623e+00  1.26609342e+00  1.28756273e+00\n",
            "   1.30934414e+00  1.33143768e+00  1.35384332e+00  1.37656108e+00\n",
            "   1.39959096e+00  1.42293294e+00  1.44658704e+00  1.47055326e+00\n",
            "   1.49483158e+00  1.51942202e+00  1.54432458e+00  1.56953925e+00\n",
            "   1.59506603e+00  1.62090492e+00  1.64705593e+00  1.67351905e+00\n",
            "   1.70029429e+00  1.72738164e+00  1.75478110e+00  1.78249268e+00\n",
            "   1.81051637e+00  1.83885217e+00  1.86750009e+00  1.89646012e+00\n",
            "   1.92573226e+00  1.95531652e+00  1.98521289e+00  2.01542137e+00]\n",
            " [ 1.22989539e+00  1.15143628e+00  1.07722393e+00  1.00717881e+00\n",
            "   9.41221419e-01  8.79272234e-01  8.21251741e-01  7.67080426e-01\n",
            "   7.16678772e-01  6.69967266e-01  6.26866391e-01  5.87296632e-01\n",
            "   5.51178474e-01  5.18432402e-01  4.88978901e-01  4.62738455e-01\n",
            "   4.39631549e-01  4.19578668e-01  4.02500297e-01  3.88316920e-01\n",
            "   3.76949022e-01  3.68317088e-01  3.62341603e-01  3.58943051e-01\n",
            "   3.58041918e-01  3.59558687e-01  3.63413845e-01  3.69527874e-01\n",
            "   3.77821261e-01  3.88214491e-01  4.00628046e-01  4.14982414e-01\n",
            "   4.31198078e-01  4.49195522e-01  4.68895233e-01  4.90217694e-01\n",
            "   5.13083391e-01  5.37412808e-01  5.63126429e-01  5.90144741e-01\n",
            "   6.18388226e-01  6.47777371e-01  6.78232660e-01  7.09674578e-01\n",
            "   7.42023609e-01  7.75200238e-01  8.09124950e-01  8.43718230e-01\n",
            "   8.78900563e-01  9.14592432e-01  9.50714324e-01  9.87186723e-01\n",
            "   1.02393011e+00  1.06086498e+00  1.09791181e+00  1.13499108e+00\n",
            "   1.17202328e+00  1.20892890e+00  1.24562842e+00  1.28204233e+00\n",
            "   1.31809110e+00  1.35369523e+00  1.38877520e+00  1.42325149e+00\n",
            "   1.45704459e+00  1.49007498e+00  1.52226316e+00  1.55352959e+00\n",
            "   1.58379478e+00  1.61297919e+00  1.64100332e+00  1.66778766e+00\n",
            "   1.69325268e+00  1.71731887e+00  1.73990672e+00  1.76093671e+00\n",
            "   1.78032933e+00  1.79800506e+00  1.81388438e+00  1.82788778e+00\n",
            "   1.83993575e+00  1.84994877e+00  1.85784732e+00  1.86355189e+00\n",
            "   1.86698296e+00  1.86806103e+00  1.86670656e+00  1.86284006e+00\n",
            "   1.85638200e+00  1.84725286e+00  1.83537314e+00  1.82066332e+00\n",
            "   1.80304388e+00  1.78243530e+00  1.75875808e+00  1.73193269e+00\n",
            "   1.70187963e+00  1.66851936e+00  1.63177240e+00  1.59155920e+00]\n",
            " [-1.99554310e-01 -3.95192724e-03  1.79851752e-01  3.51005136e-01\n",
            "   5.08831706e-01  6.52819233e-01  7.82609240e-01  8.97986721e-01\n",
            "   9.98870117e-01  1.08530155e+00  1.15743729e+00  1.21553852e+00\n",
            "   1.25996233e+00  1.29115292e+00  1.30963316e+00  1.31599632e+00\n",
            "   1.31089811e+00  1.29504889e+00  1.26920626e+00  1.23416782e+00\n",
            "   1.19076415e+00  1.13985218e+00  1.08230867e+00  1.01902405e+00\n",
            "   9.50896441e-01  8.78825970e-01  8.03709344e-01  7.26434655e-01\n",
            "   6.47876457e-01  5.68891088e-01  4.90312256e-01  4.12946874e-01\n",
            "   3.37571147e-01  2.64926923e-01  1.95718291e-01  1.30608438e-01\n",
            "   7.02167560e-02  1.51162118e-02 -3.41690366e-02 -7.71657636e-02\n",
            "  -1.13453547e-01 -1.42666382e-01 -1.64494044e-01 -1.78683194e-01\n",
            "  -1.85038228e-01 -1.83421873e-01 -1.73755533e-01 -1.56019368e-01\n",
            "  -1.30252132e-01 -9.65507462e-02 -5.50696232e-02 -6.01973198e-03\n",
            "   5.03325883e-02  1.13667071e-01  1.83611221e-01  2.59742264e-01\n",
            "   3.41589357e-01  4.28636046e-01  5.20322987e-01  6.16050916e-01\n",
            "   7.15183874e-01  8.17052690e-01  9.20958717e-01  1.02617782e+00\n",
            "   1.13196463e+00  1.23755703e+00  1.34218093e+00  1.44505526e+00\n",
            "   1.54539723e+00  1.64242789e+00  1.73537785e+00  1.82349336e+00\n",
            "   1.90604254e+00  1.98232198e+00  2.05166348e+00  2.11344114e+00\n",
            "   2.16707864e+00  2.21205680e+00  2.24792141e+00  2.27429129e+00\n",
            "   2.29086658e+00  2.29743739e+00  2.29389257e+00  2.28022881e+00\n",
            "   2.25656001e+00  2.22312684e+00  2.18030664e+00  2.12862347e+00\n",
            "   2.06875850e+00  2.00156065e+00  1.92805743e+00  1.84946605e+00\n",
            "   1.76720485e+00  1.68290491e+00  1.59842194e+00  1.51584842e+00\n",
            "   1.43752602e+00  1.36605824e+00  1.30432333e+00  1.25548743e+00]\n",
            " [ 6.79502291e+00  4.14319962e+00  2.23123327e+00  9.10495584e-01\n",
            "   5.49803842e-02 -4.41344405e-01 -6.66950391e-01 -6.94942835e-01\n",
            "  -5.85049561e-01 -3.85418365e-01 -1.34236013e-01  1.38818612e-01\n",
            "   4.11275255e-01  6.66715494e-01  8.93747513e-01  1.08510207e+00\n",
            "   1.23683984e+00  1.34766074e+00  1.41830638e+00  1.45104729e+00\n",
            "   1.44924700e+00  1.41699539e+00  1.35880449e+00  1.27935991e+00\n",
            "   1.18332187e+00  1.07517000e+00  9.59086463e-01  8.38872509e-01\n",
            "   7.17893710e-01  5.99049649e-01  4.84764103e-01  3.76992115e-01\n",
            "   2.77240652e-01  1.86599874e-01  1.05782325e-01  3.51676284e-02\n",
            "  -2.51494338e-02 -7.53093493e-02 -1.15638432e-01 -1.46600906e-01\n",
            "  -1.68753692e-01 -1.82704857e-01 -1.89076490e-01 -1.88472584e-01\n",
            "  -1.81452335e-01 -1.68509088e-01 -1.50055030e-01 -1.26411586e-01\n",
            "  -9.78053403e-02 -6.43692086e-02 -2.61484622e-02  1.68888606e-02\n",
            "   6.48377139e-02  1.17838592e-01  1.76057536e-01  2.39664311e-01\n",
            "   3.08809493e-01  3.83601236e-01  4.64082456e-01  5.50209219e-01\n",
            "   6.41831039e-01  7.38673816e-01  8.40326052e-01  9.46228969e-01\n",
            "   1.05567105e+00  1.16778746e+00  1.28156475e+00  1.39585105e+00\n",
            "   1.50937187e+00  1.62075169e+00  1.72854101e+00  1.83124866e+00\n",
            "   1.92737901e+00  2.01547334e+00  2.09415461e+00  2.16217467e+00\n",
            "   2.21846259e+00  2.26217275e+00  2.29273095e+00  2.30987669e+00\n",
            "   2.31369926e+00  2.30466539e+00  2.28363550e+00  2.25186568e+00\n",
            "   2.21099185e+00  2.16299262e+00  2.11012668e+00  2.05484037e+00\n",
            "   1.99964084e+00  1.94692951e+00  1.89879053e+00  1.85672828e+00\n",
            "   1.82134765e+00  1.79197039e+00  1.76618046e+00  1.73929077e+00\n",
            "   1.70372326e+00  1.64829388e+00  1.55739354e+00  1.41005537e+00]]\n"
          ]
        }
      ],
      "source": [
        "print(results)"
      ]
    },
    {
      "cell_type": "markdown",
      "id": "f5bc45ee-5103-45c1-9190-efb9be138834",
      "metadata": {
        "id": "f5bc45ee-5103-45c1-9190-efb9be138834"
      },
      "source": [
        "### Fitted model plot"
      ]
    },
    {
      "cell_type": "code",
      "execution_count": null,
      "id": "d2195f91-2cc3-40fe-846e-cc3fc5f43426",
      "metadata": {
        "id": "d2195f91-2cc3-40fe-846e-cc3fc5f43426",
        "colab": {
          "base_uri": "https://localhost:8080/",
          "height": 451
        },
        "outputId": "395c4fe2-5eee-4d6f-e7fe-7e197a66cb7e"
      },
      "outputs": [
        {
          "output_type": "display_data",
          "data": {
            "text/plain": [
              "<Figure size 1000x500 with 1 Axes>"
            ],
            "image/png": "[encoded data removed]"
          },
          "metadata": {}
        }
      ],
      "source": [
        "def plot_one(degree_predictions):\n",
        "    import matplotlib.pyplot as plt\n",
        "    plt.figure(figsize=(10,5))\n",
        "    plt.plot(X_train, y_train, 'o', label='training data', markersize=10)\n",
        "    plt.plot(X_test, y_test, 'o', label='test data', markersize=10)\n",
        "    for i,degree in enumerate([1,2,3,6,9]):\n",
        "        plt.plot(np.linspace(0,10,100), degree_predictions[i], alpha=0.8, lw=2, label='degree={}'.format(degree))\n",
        "    plt.ylim(-1,2.5)\n",
        "    plt.legend(loc=4)\n",
        "\n",
        "plot_one(answer_one())"
      ]
    },
    {
      "cell_type": "markdown",
      "id": "7e534f81-8e9c-48dd-b840-829166b32612",
      "metadata": {
        "id": "7e534f81-8e9c-48dd-b840-829166b32612"
      },
      "source": [
        "### Question 1.2\n",
        "Comment on the figure above in 2 lines in terms of fitting the data."
      ]
    },
    {
      "cell_type": "markdown",
      "id": "502109c9",
      "metadata": {
        "id": "502109c9"
      },
      "source": [
        "**ANSWER**"
      ]
    },
    {
      "cell_type": "markdown",
      "id": "4295f4f7",
      "metadata": {
        "id": "4295f4f7"
      },
      "source": [
        "the higher-degree models show better fitting to the training data, but they may suffer from overfitting, as evidenced by poorer performance on the test data, especially very higher degrees."
      ]
    },
    {
      "cell_type": "markdown",
      "id": "754f72d1-798c-46d3-9a36-4de0af874e92",
      "metadata": {
        "id": "754f72d1-798c-46d3-9a36-4de0af874e92"
      },
      "source": [
        "### Question 2\n",
        "- Write a function that fits a polynomial `LinearRegression` model on the training data `X_train` for degrees 0 through 9. For each model compute the $R^2$ regression score on the **training data** as well as the the **test data**, and return both of these arrays in a tuple.\n",
        "\n",
        "- *This function should return one tuple of numpy arrays `(r2_train, r2_test)`. Both arrays should have shape `(10,)`*"
      ]
    },
    {
      "cell_type": "code",
      "execution_count": null,
      "id": "7a317990-858a-4ed6-bc4c-7a2ce385746a",
      "metadata": {
        "id": "7a317990-858a-4ed6-bc4c-7a2ce385746a"
      },
      "outputs": [],
      "source": [
        "def answer_two():\n",
        "    from sklearn.linear_model import LinearRegression\n",
        "    from sklearn.preprocessing import PolynomialFeatures\n",
        "    from sklearn.metrics import r2_score\n",
        "\n",
        "    degrees = np.arange(10)\n",
        "    r2_train = np.zeros(10)\n",
        "    r2_test = np.zeros(10)\n",
        "\n",
        "    for degree in degrees:\n",
        "        poly = PolynomialFeatures(degree=degree)\n",
        "        X_poly_train = poly.fit_transform(X_train.reshape(-1, 1))\n",
        "        X_poly_test = poly.transform(X_test.reshape(-1, 1))\n",
        "\n",
        "        model = LinearRegression().fit(X_poly_train, y_train)\n",
        "\n",
        "        # Compute R^2 scores for training and test sets\n",
        "        r2_train[degree] = r2_score(y_train, model.predict(X_poly_train))\n",
        "        r2_test[degree] = r2_score(y_test, model.predict(X_poly_test))\n",
        "\n",
        "    return (r2_train, r2_test)"
      ]
    },
    {
      "cell_type": "code",
      "execution_count": null,
      "id": "eb5ba14f",
      "metadata": {
        "colab": {
          "base_uri": "https://localhost:8080/"
        },
        "id": "eb5ba14f",
        "outputId": "d069b49c-91fd-4263-9864-7bbb15077a0d"
      },
      "outputs": [
        {
          "output_type": "stream",
          "name": "stdout",
          "text": [
            "(10,) (10,)\n"
          ]
        }
      ],
      "source": [
        "results = answer_two()\n",
        "print(results[0].shape,results[1].shape)"
      ]
    },
    {
      "cell_type": "code",
      "execution_count": null,
      "id": "1b7642ec",
      "metadata": {
        "colab": {
          "base_uri": "https://localhost:8080/"
        },
        "id": "1b7642ec",
        "outputId": "43c02e1c-d521-4a9b-e11d-b6fad4f81eb7"
      },
      "outputs": [
        {
          "output_type": "stream",
          "name": "stdout",
          "text": [
            "(array([0.        , 0.42924578, 0.4510998 , 0.58719954, 0.91941945,\n",
            "       0.97578641, 0.99018233, 0.99352509, 0.99637545, 0.99803706]), array([-0.47808642, -0.45237104, -0.06856984,  0.00533105,  0.73004943,\n",
            "        0.87708301,  0.9214094 ,  0.92021504,  0.63247948, -0.64525365]))\n"
          ]
        }
      ],
      "source": [
        "print(results)"
      ]
    },
    {
      "cell_type": "markdown",
      "id": "62d15124-54d3-44d3-80cc-ec9efd7f18ec",
      "metadata": {
        "id": "62d15124-54d3-44d3-80cc-ec9efd7f18ec"
      },
      "source": [
        "### Question 3\n",
        "- Plot $R^2$ scores at degrees from 0 to 9 for both training and testing data on the same plot.\n",
        "\n",
        "- The plot must contain a legend and appropriate names for the axes."
      ]
    },
    {
      "cell_type": "code",
      "execution_count": null,
      "id": "d5fc0930",
      "metadata": {
        "colab": {
          "base_uri": "https://localhost:8080/",
          "height": 564
        },
        "id": "d5fc0930",
        "outputId": "ad58cadd-753b-4f6d-9140-19977cdfc0ba"
      },
      "outputs": [
        {
          "output_type": "display_data",
          "data": {
            "text/plain": [
              "<Figure size 1000x600 with 1 Axes>"
            ],
            "image/png": "[encoded data removed]"
          },
          "metadata": {}
        }
      ],
      "source": [
        "import matplotlib.pyplot as plt\n",
        "def plot_r2_scores():\n",
        "    degrees = np.arange(10)\n",
        "    r2_train,r2_test=answer_two()\n",
        "\n",
        "    plt.figure(figsize=(10, 6))\n",
        "    plt.plot(degrees, r2_train, label='Training R^2 Score', marker='o')\n",
        "    plt.plot(degrees, r2_test, label='Testing R^2 Score', marker='o')\n",
        "\n",
        "    plt.title('R^2 Scores for Different Polynomial Degrees')\n",
        "    plt.xlabel('Polynomial Degree')\n",
        "    plt.ylabel('R^2 Score')\n",
        "    plt.legend()\n",
        "    plt.grid(True)\n",
        "\n",
        "    plt.show()\n",
        "plot_r2_scores()"
      ]
    },
    {
      "cell_type": "markdown",
      "id": "aa629bb4",
      "metadata": {
        "id": "aa629bb4"
      },
      "source": [
        "Based on the $R^2$ scores (degree levels 0 through 9), what degree level corresponds to a model that is **underfitting**? What degree level corresponds to a model that is **overfitting**? What choice of degree level would provide a model with **good generalization** performance on this dataset?"
      ]
    },
    {
      "cell_type": "markdown",
      "id": "03e0f01d",
      "metadata": {
        "id": "03e0f01d"
      },
      "source": [
        "**ANSWER**"
      ]
    },
    {
      "cell_type": "markdown",
      "id": "25f59680",
      "metadata": {
        "id": "25f59680"
      },
      "source": [
        "1. **Underfitting:**\n",
        "  Degree 0,1,2 and 3 models are underfitting, as indicated by low R^2 scores on both the training and testing sets.\n",
        "2. **Overfitting:**\n",
        "  Degrees 8 and 9 may correspond to overfitting, as they show high R^2 scores on the training set but lower scores on the test set.\n",
        "3. **Good Generalization:**\n",
        "  Degrees 6 and 7 have reasonably high R^2 scores on both the training and test sets. These degrees possibly provide a model with good generalization performance.\n"
      ]
    },
    {
      "cell_type": "markdown",
      "id": "9639d156-3294-4eff-8042-2617d01aa163",
      "metadata": {
        "id": "9639d156-3294-4eff-8042-2617d01aa163"
      },
      "source": [
        "### Question 4\n",
        "\n",
        "- Training models on high degree polynomial features can result in overly complex models that overfit, so we often use regularized versions of the model to constrain model complexity, as we saw with Ridge and Lasso linear regression.\n",
        "\n",
        "- For this question, train three models: a non-regularized LinearRegression model (default parameters) and a regularized Lasso Regression model (with parameters `alpha=0.01`, `max_iter=10000`), and a regularized Ridge Regression model (with parameters `alpha=0.01`, `max_iter=10000`) both on polynomial features of degree 50.\n",
        "- Return the $R^2$ score for both the LinearRegression, Lasso, Ridge model's test sets.\n",
        "\n",
        "\n",
        "*This function should return one tuple `(LinearRegression_R2_test_score, Lasso_R2_test_score, Ridge_R2_test_score)`*"
      ]
    },
    {
      "cell_type": "code",
      "execution_count": null,
      "id": "955af3a4-c485-499b-999e-5db09dbfeb25",
      "metadata": {
        "id": "955af3a4-c485-499b-999e-5db09dbfeb25"
      },
      "outputs": [],
      "source": [
        "def answer_four():\n",
        "    from sklearn.preprocessing import PolynomialFeatures\n",
        "    from sklearn.linear_model import Lasso, Ridge, LinearRegression\n",
        "    from sklearn.metrics import r2_score\n",
        "\n",
        "    poly = PolynomialFeatures(degree=50)\n",
        "    X_poly_train = poly.fit_transform(X_train.reshape(-1, 1))\n",
        "    X_poly_test = poly.transform(X_test.reshape(-1, 1))\n",
        "\n",
        "    lr_model = LinearRegression().fit(X_poly_train, y_train)\n",
        "    LinearRegression_R2_test_score = r2_score(y_test, lr_model.predict(X_poly_test))\n",
        "\n",
        "    lasso_model = Lasso(alpha=0.01, max_iter=10000).fit(X_poly_train, y_train)\n",
        "    Lasso_R2_test_score = r2_score(y_test, lasso_model.predict(X_poly_test))\n",
        "\n",
        "\n",
        "    ridge_model = Ridge(alpha=0.01, max_iter=10000).fit(X_poly_train, y_train)\n",
        "    Ridge_R2_test_score = r2_score(y_test, ridge_model.predict(X_poly_test))\n",
        "\n",
        "    return (LinearRegression_R2_test_score, Lasso_R2_test_score, Ridge_R2_test_score)\n"
      ]
    },
    {
      "cell_type": "code",
      "execution_count": null,
      "id": "3fdd91cd",
      "metadata": {
        "colab": {
          "base_uri": "https://localhost:8080/"
        },
        "id": "3fdd91cd",
        "outputId": "f2fc192b-a920-4a5f-bd89-e91f230ced69"
      },
      "outputs": [
        {
          "output_type": "stream",
          "name": "stdout",
          "text": [
            "(0.006953559711665225, 0.8493908995296351, -0.08938086200465722)\n"
          ]
        },
        {
          "output_type": "stream",
          "name": "stderr",
          "text": [
            "/usr/local/lib/python3.10/dist-packages/sklearn/linear_model/_coordinate_descent.py:631: ConvergenceWarning: Objective did not converge. You might want to increase the number of iterations, check the scale of the features or consider increasing regularisation. Duality gap: 3.140e-01, tolerance: 6.895e-04\n",
            "  model = cd_fast.enet_coordinate_descent(\n",
            "/usr/local/lib/python3.10/dist-packages/sklearn/linear_model/_ridge.py:255: UserWarning: Singular matrix in solving dual problem. Using least-squares solution instead.\n",
            "  warnings.warn(\n"
          ]
        }
      ],
      "source": [
        "results = answer_four()\n",
        "print(results)"
      ]
    },
    {
      "cell_type": "markdown",
      "id": "78d295b2",
      "metadata": {
        "id": "78d295b2"
      },
      "source": [
        "**Comment on the results**\n",
        "- which is better?\n",
        "- what's the difference between the models in results and data fit?\n",
        "- how do the weight values differ between the models?"
      ]
    },
    {
      "cell_type": "markdown",
      "id": "763fe85a",
      "metadata": {
        "id": "763fe85a"
      },
      "source": [
        "**ANSWER**"
      ]
    },
    {
      "cell_type": "markdown",
      "id": "c936ebff",
      "metadata": {
        "id": "c936ebff"
      },
      "source": [
        "* **Better performance :** Among the three models, Lasso Regression has the highest R^2 score on the test set (0.85), indicating better performance.\n",
        "\n",
        "*   **Differences in Results:**\n",
        " * Linear Regression has a low R^2 score, suggesting poor performance.\n",
        " * Lasso Regression outperforms both Linear and Ridge Regression, indicating that the regularization term in Lasso helps prevent overfitting and improves generalization.\n",
        " * Ridge Regression has a negative R^2 score, indicating that it might not be well-suited for this dataset.\n",
        "* **Data Fit:**\n",
        " * Linear Regression tries to fit the data without any regularization, leading to overfitting, especially with a high-degree polynomial.\n",
        " * Lasso Regression, with its L1 regularization, tends to produce sparse models by driving some coefficients to exactly zero. This can be useful for feature selection and preventing overfitting.\n",
        " * Ridge Regression, with its L2 regularization, penalizes large coefficients but typically does not lead to coeficients becoming zero.\n",
        "* **Weight Values:**\n",
        " * The weight values in Linear Regression will be non-zero for all features, and their magnitudes may be quite large.\n",
        " * Lasso Regression tends to produce sparse weight vectors, it sets some coefficients to exactly zero, effectively performing feature selection.\n",
        " * Ridge Regression penalizes large coefficients but does not lead to some coeffiecients becoming zeros so all features remain in the model.\n",
        "\n",
        "\n"
      ]
    },
    {
      "cell_type": "markdown",
      "id": "670d7fc9-9c5a-4c69-84af-80f77afcd285",
      "metadata": {
        "id": "670d7fc9-9c5a-4c69-84af-80f77afcd285"
      },
      "source": [
        "### Question 5\n",
        "Write a function to calculate the total mean square error.\n",
        "$$\n",
        "MSE = E[ (ytrue  - yhat)^2 ]\n",
        "$$\n",
        "\n",
        "**Then compare your results with scikit-learn implementation of mean square error on the example provided below:**"
      ]
    },
    {
      "cell_type": "code",
      "execution_count": null,
      "id": "0a75daf6",
      "metadata": {
        "id": "0a75daf6"
      },
      "outputs": [],
      "source": [
        "y_true = [3, -0.5, 2, 7]\n",
        "y_pred = [2.5, 0.0, 2, 8]"
      ]
    },
    {
      "cell_type": "code",
      "execution_count": null,
      "id": "7533c60a-ddb7-4603-93be-0a5a6d528899",
      "metadata": {
        "id": "7533c60a-ddb7-4603-93be-0a5a6d528899"
      },
      "outputs": [],
      "source": [
        "def mse(y_true, y_pred):\n",
        "     import numpy as np\n",
        "     y_true = np.array(y_true)\n",
        "     y_pred = np.array(y_pred)\n",
        "\n",
        "     error = np.mean((y_true - y_pred)**2)\n",
        "\n",
        "     return error"
      ]
    },
    {
      "cell_type": "code",
      "execution_count": null,
      "id": "e6d97dbf",
      "metadata": {
        "colab": {
          "base_uri": "https://localhost:8080/"
        },
        "id": "e6d97dbf",
        "outputId": "f30bdd54-e6ac-4b8b-cd99-167af9fb86e1"
      },
      "outputs": [
        {
          "output_type": "stream",
          "name": "stdout",
          "text": [
            "Custom MSE Result: 0.375\n",
            "Scikit-Learn MSE Result: 0.375\n"
          ]
        }
      ],
      "source": [
        "from sklearn.metrics import mean_squared_error\n",
        "sklearn_mse_result = mean_squared_error(y_true, y_pred)\n",
        "\n",
        "print(\"Custom MSE Result:\", mse(y_true, y_pred))\n",
        "print(\"Scikit-Learn MSE Result:\", sklearn_mse_result)"
      ]
    },
    {
      "cell_type": "markdown",
      "id": "7edf7ed9-d215-4e80-be58-cc78711aa4cb",
      "metadata": {
        "id": "7edf7ed9-d215-4e80-be58-cc78711aa4cb"
      },
      "source": [
        "### Question 6\n",
        "Implement a linear regression class **FROM SCRATCH** that can be used by one of the following three options (according to user's choice):\n",
        "1. Ordinary Linear Regression Class\n",
        "2. Implement Ridge Regression Class\n",
        "3. Implement Lasso Regression Class\n",
        "\n",
        "- Can use numpy\n",
        "- Complete the missing code"
      ]
    },
    {
      "cell_type": "markdown",
      "id": "f4339193",
      "metadata": {
        "id": "f4339193"
      },
      "source": [
        "**Help**\n",
        "\n",
        "The gradient descent algorithm is:\n",
        "\n",
        "$$\\begin{align*}& \\text{repeat until convergence:} \\; \\lbrace \\newline \\; & \\phantom {0000} b := b -  \\alpha \\frac{\\partial J(w,b)}{\\partial b} \\newline       \\; & \\phantom {0000} w_k := w_k -  \\alpha \\frac{\\partial J(w,b)}{\\partial w_k} \\tag{1}  \\; &\n",
        "\\newline & \\rbrace\\end{align*}$$\n",
        "\n",
        "where, parameters $w, b$ are both updated simultaniously and where for **LINEAR REGRESSION**\n",
        "$$\n",
        "\\frac{\\partial J(w,b)}{\\partial b}  = \\frac{1}{n} \\sum\\limits_{i = 0}^{n-1} (f_{w,b}(x^{(i)}) - y^{(i)}) \\tag{2}\n",
        "$$\n",
        "$$\n",
        "\\frac{\\partial J(w,b)}{\\partial w_k}  = \\frac{1}{n} \\sum\\limits_{i = 0}^{n-1} (f_{w,b}(x^{(i)}) -y^{(i)})x^{(i)}_k \\tag{3}\n",
        "$$\n",
        "    \n",
        "*  $f_{w,b}(x^{(i)})$ is the model's prediction, while $y^{(i)}$, is the target value\n",
        "\n",
        "\n",
        "You will implement a function called `update_weights` which calculates $\\frac{\\partial J(w)}{\\partial w_k}$, $\\frac{\\partial J(w)}{\\partial b}$ for each type of regression --> different gradients for each type\n",
        "\n",
        "\n",
        "For example for **Linear Regression**, the `updat_weights` function should:\n",
        "\n",
        "* Iterate over the training examples, and for each example, compute:\n",
        "    * The prediction of the model for that example\n",
        "    $$\n",
        "    f_{wb}(x^{(i)}) =  \\sum_{k=1}^{k=m}w_kx^{(i)} + b\n",
        "    $$\n",
        "   \n",
        "    * Loop over features $k$ and calculate the gradient for each parameter $w_k$\n",
        "        $$\n",
        "        \\frac{\\partial J(w,b)}{\\partial w_k}^{(i)}  =  (f_{w,b}(x^{(i)}) -y^{(i)})x^{(i)}_k\n",
        "        $$\n",
        "    * Then for $b$ from that example\n",
        "        $$\n",
        "        \\frac{\\partial J(w,b)}{\\partial b}^{(i)}  =  (f_{w,b}(x^{(i)}) - y^{(i)})\n",
        "        $$\n",
        "\n",
        "* Calculate the total gradient update from all the examples for each parameter $w_k$ and $b$\n",
        "    $$\n",
        "    \\frac{\\partial J(w,b)}{\\partial b}  = \\frac{1}{n} \\sum\\limits_{i = 0}^{n-1} \\frac{\\partial J(w,b)}{\\partial b}^{(i)}\n",
        "    $$\n",
        "    \n",
        "    $$\n",
        "    \\frac{\\partial J(w,b)}{\\partial w_k}  = \\frac{1}{n} \\sum\\limits_{i = 0}^{n-1} \\frac{\\partial J(w,b)}{\\partial w_k}^{(i)}\n",
        "    $$\n",
        "  * Here, $n$ is the number of training examples and $\\sum$ is the summation operator\n",
        "\n",
        "* Then update weights"
      ]
    },
    {
      "cell_type": "code",
      "execution_count": null,
      "id": "42fe1d16-63ab-45b9-8c96-b08aa5509720",
      "metadata": {
        "id": "42fe1d16-63ab-45b9-8c96-b08aa5509720"
      },
      "outputs": [],
      "source": [
        "import numpy as np\n",
        "\n",
        "# Linear Regression\n",
        "\n",
        "class LinearRegression() :\n",
        "\n",
        "    def __init__( self, learning_rate, iterations, type=\"linear\" , reg_parameter = 0) :\n",
        "\n",
        "          self.learning_rate = learning_rate\n",
        "          self.iterations = iterations\n",
        "          self.type = type\n",
        "          self.lam = reg_parameter\n",
        "\n",
        "    def fit( self, X, Y ) :\n",
        "        if X.ndim == 1:\n",
        "          X = X.reshape(-1, 1)\n",
        "\n",
        "        self.m, self.n = X.shape\n",
        "\n",
        "        self.W = np.random.rand(self.n)\n",
        "\n",
        "        self.b = 0\n",
        "\n",
        "        self.X = X\n",
        "        self.Y = Y\n",
        "\n",
        "          # gradient descent learning\n",
        "\n",
        "        for i in range( self.iterations ) :\n",
        "\n",
        "              self.update_weights()\n",
        "\n",
        "        return self\n",
        "\n",
        "    def update_weights(self):\n",
        "        Y_pred = self.predict(self.X)\n",
        "\n",
        "        # Calculate gradients\n",
        "        if self.type == 'linear':\n",
        "            dW = -(2 * (self.X.T).dot(self.Y - Y_pred)) / self.m\n",
        "            db = -2 * np.sum(self.Y - Y_pred) / self.m\n",
        "        elif self.type == 'ridge':\n",
        "            dW = -(2 * (self.X.T).dot(self.Y - Y_pred)) / self.m + 2 * self.lam * self.W / self.m\n",
        "            db = -2 * np.sum(self.Y - Y_pred) / self.m\n",
        "        else:  # Lasso\n",
        "            dW = -(2 * (self.X.T).dot(self.Y - Y_pred)) / self.m + self.lam * np.sign(self.W) / self.m\n",
        "            db = -2 * np.sum(self.Y - Y_pred) / self.m\n",
        "\n",
        "\n",
        "        # update weights\n",
        "        self.W -= self.learning_rate * dW\n",
        "        self.b -= self.learning_rate * db\n",
        "\n",
        "    def predict(self, X):\n",
        "       if X.ndim == 1:\n",
        "          X = X.reshape(-1, 1)\n",
        "       y_pred = np.dot(X, self.W) + self.b\n",
        "       return y_pred"
      ]
    },
    {
      "cell_type": "markdown",
      "id": "546fec17",
      "metadata": {
        "id": "546fec17"
      },
      "source": [
        "- **Train your 3 models on the simulated train data provided at the beginning of the assignment**\n",
        "- use alpha = 0.01, learning_rate = 0.01, iterations, 500"
      ]
    },
    {
      "cell_type": "code",
      "execution_count": null,
      "id": "5d3d6880",
      "metadata": {
        "id": "5d3d6880"
      },
      "outputs": [],
      "source": [
        "# Training parameters\n",
        "alpha = 0.01\n",
        "learning_rate = 0.01\n",
        "iterations = 500\n",
        "\n",
        "linear_model = LinearRegression(learning_rate,500)\n",
        "linear_model.fit(X_train, y_train)\n",
        "\n",
        "    # Train Ridge Regression\n",
        "ridge_model = LinearRegression(learning_rate,500,'ridge',alpha)\n",
        "ridge_model.fit(X_train, y_train)\n",
        "\n",
        "    # Train Lasso Regression\n",
        "lasso_model = LinearRegression(learning_rate,500,'lasso',alpha)\n",
        "lasso_model.fit(X_train, y_train)\n",
        "\n",
        "    # Predictions\n",
        "y_pred_linear = linear_model.predict(X_test)\n",
        "y_pred_ridge = ridge_model.predict(X_test)\n",
        "y_pred_lasso = lasso_model.predict(X_test)"
      ]
    },
    {
      "cell_type": "markdown",
      "id": "6e03ff93",
      "metadata": {
        "id": "6e03ff93"
      },
      "source": [
        "- **Test your 3 models on the simulated test data provided at the beginning of the assignment**\n",
        "- **Print the MSE for each model**"
      ]
    },
    {
      "cell_type": "code",
      "execution_count": null,
      "id": "249907b7",
      "metadata": {
        "id": "249907b7",
        "colab": {
          "base_uri": "https://localhost:8080/"
        },
        "outputId": "d9bf8d83-3c90-4bc7-fe06-1abec5e45d7c"
      },
      "outputs": [
        {
          "output_type": "stream",
          "name": "stdout",
          "text": [
            "Linear Regression MSE: 0.6067\n",
            "Ridge Regression MSE: 0.6067\n",
            "Lasso Regression MSE: 0.6066\n"
          ]
        }
      ],
      "source": [
        "from sklearn.metrics import mean_squared_error\n",
        "linear_model_mse = mean_squared_error(y_test, y_pred_linear)\n",
        "ridge_model_mse = mean_squared_error(y_test, y_pred_ridge)\n",
        "lasso_model_mse = mean_squared_error(y_test,y_pred_lasso)\n",
        "\n",
        "print(f\"Linear Regression MSE: {linear_model_mse:.4f}\")\n",
        "print(f\"Ridge Regression MSE: {ridge_model_mse:.4f}\")\n",
        "print(f\"Lasso Regression MSE: {lasso_model_mse:.4f}\")"
      ]
    },
    {
      "cell_type": "markdown",
      "id": "a6c2ba76",
      "metadata": {
        "id": "a6c2ba76"
      },
      "source": [
        "---\n",
        "# Part 2 - Diabetes Data\n",
        "\n",
        "For this assignment, you will be using the [Diabetes](https://scikit-learn.org/stable/datasets/toy_dataset.html#diabetes-dataset) dataset to create a regression model that can help diagnose patients' disease progression one year after baseline.\n",
        "\n",
        "\n",
        "## Question 1 (1 point)\n",
        "\n",
        "Load Diabetes Dataset from [scikit-learn](https://scikit-learn.org/stable/modules/generated/sklearn.datasets.load_diabetes.html#sklearn-datasets-load-diabetes)\n",
        "\n",
        "The following function MUST:\n",
        "1. Load diabetes dataset from scikit-learn as a scikit-learn bunch object which is similar to a dictionary\n",
        "    - Use `scaled= False`\n",
        "2. Convert the diabetes data to a pandas dataframe\n",
        "3. Return a pandas dataframe with:\n",
        "    - **CORRECT COLUMN NAMES** --> meaningful !!! i.e. NOT s1, s2, s3, ...\n",
        "    - target column should be named \"target\""
      ]
    },
    {
      "cell_type": "code",
      "execution_count": null,
      "id": "462c421a",
      "metadata": {
        "id": "462c421a"
      },
      "outputs": [],
      "source": [
        "def load_data(scaled=False):\n",
        "    \"\"\"\n",
        "    Return a pandas dataframe\n",
        "    \"\"\"\n",
        "    import pandas as pd\n",
        "    from sklearn.datasets import load_diabetes\n",
        "    from sklearn.preprocessing import StandardScaler\n",
        "\n",
        "    diabetes_data=load_diabetes()\n",
        "    corrected_feature_names = [\n",
        "          'Age', 'Gender', 'Body mass index', 'Average blood pressure',\n",
        "          'Total serum cholesterol', 'Low-density lipoproteins',\n",
        "          'High-density lipoproteins', 'Total cholesterol / HDL cholesterol ratio',\n",
        "          'Log of serum triglycerides level', 'Blood sugar level'\n",
        "      ]\n",
        "    diabetes_df = pd.DataFrame(data=diabetes_data.data, columns=diabetes_data.feature_names)\n",
        "    diabetes_df.columns = corrected_feature_names\n",
        "\n",
        "    diabetes_df['target'] = diabetes_data.target\n",
        "    return diabetes_df"
      ]
    },
    {
      "cell_type": "code",
      "execution_count": null,
      "id": "e4f50e1e",
      "metadata": {
        "id": "e4f50e1e",
        "colab": {
          "base_uri": "https://localhost:8080/",
          "height": 223
        },
        "outputId": "6bd51b1f-9251-4b78-8542-255f16da677f"
      },
      "outputs": [
        {
          "output_type": "execute_result",
          "data": {
            "text/plain": [
              "        Age    Gender  Body mass index  Average blood pressure  \\\n",
              "0  0.038076  0.050680         0.061696                0.021872   \n",
              "1 -0.001882 -0.044642        -0.051474               -0.026328   \n",
              "2  0.085299  0.050680         0.044451               -0.005670   \n",
              "3 -0.089063 -0.044642        -0.011595               -0.036656   \n",
              "4  0.005383 -0.044642        -0.036385                0.021872   \n",
              "\n",
              "   Total serum cholesterol  Low-density lipoproteins  \\\n",
              "0                -0.044223                 -0.034821   \n",
              "1                -0.008449                 -0.019163   \n",
              "2                -0.045599                 -0.034194   \n",
              "3                 0.012191                  0.024991   \n",
              "4                 0.003935                  0.015596   \n",
              "\n",
              "   High-density lipoproteins  Total cholesterol / HDL cholesterol ratio  \\\n",
              "0                  -0.043401                                  -0.002592   \n",
              "1                   0.074412                                  -0.039493   \n",
              "2                  -0.032356                                  -0.002592   \n",
              "3                  -0.036038                                   0.034309   \n",
              "4                   0.008142                                  -0.002592   \n",
              "\n",
              "   Log of serum triglycerides level  Blood sugar level  target  \n",
              "0                          0.019907          -0.017646   151.0  \n",
              "1                         -0.068332          -0.092204    75.0  \n",
              "2                          0.002861          -0.025930   141.0  \n",
              "3                          0.022688          -0.009362   206.0  \n",
              "4                         -0.031988          -0.046641   135.0  "
            ],
            "text/html": [
              "\n",
              "  <div id=\"df-f255dd2f-d665-417d-b014-90663747f2e5\" class=\"colab-df-container\">\n",
              "    <div>\n",
              "<style scoped>\n",
              "    .dataframe tbody tr th:only-of-type {\n",
              "        vertical-align: middle;\n",
              "    }\n",
              "\n",
              "    .dataframe tbody tr th {\n",
              "        vertical-align: top;\n",
              "    }\n",
              "\n",
              "    .dataframe thead th {\n",
              "        text-align: right;\n",
              "    }\n",
              "</style>\n",
              "<table border=\"1\" class=\"dataframe\">\n",
              "  <thead>\n",
              "    <tr style=\"text-align: right;\">\n",
              "      <th></th>\n",
              "      <th>Age</th>\n",
              "      <th>Gender</th>\n",
              "      <th>Body mass index</th>\n",
              "      <th>Average blood pressure</th>\n",
              "      <th>Total serum cholesterol</th>\n",
              "      <th>Low-density lipoproteins</th>\n",
              "      <th>High-density lipoproteins</th>\n",
              "      <th>Total cholesterol / HDL cholesterol ratio</th>\n",
              "      <th>Log of serum triglycerides level</th>\n",
              "      <th>Blood sugar level</th>\n",
              "      <th>target</th>\n",
              "    </tr>\n",
              "  </thead>\n",
              "  <tbody>\n",
              "    <tr>\n",
              "      <th>0</th>\n",
              "      <td>0.038076</td>\n",
              "      <td>0.050680</td>\n",
              "      <td>0.061696</td>\n",
              "      <td>0.021872</td>\n",
              "      <td>-0.044223</td>\n",
              "      <td>-0.034821</td>\n",
              "      <td>-0.043401</td>\n",
              "      <td>-0.002592</td>\n",
              "      <td>0.019907</td>\n",
              "      <td>-0.017646</td>\n",
              "      <td>151.0</td>\n",
              "    </tr>\n",
              "    <tr>\n",
              "      <th>1</th>\n",
              "      <td>-0.001882</td>\n",
              "      <td>-0.044642</td>\n",
              "      <td>-0.051474</td>\n",
              "      <td>-0.026328</td>\n",
              "      <td>-0.008449</td>\n",
              "      <td>-0.019163</td>\n",
              "      <td>0.074412</td>\n",
              "      <td>-0.039493</td>\n",
              "      <td>-0.068332</td>\n",
              "      <td>-0.092204</td>\n",
              "      <td>75.0</td>\n",
              "    </tr>\n",
              "    <tr>\n",
              "      <th>2</th>\n",
              "      <td>0.085299</td>\n",
              "      <td>0.050680</td>\n",
              "      <td>0.044451</td>\n",
              "      <td>-0.005670</td>\n",
              "      <td>-0.045599</td>\n",
              "      <td>-0.034194</td>\n",
              "      <td>-0.032356</td>\n",
              "      <td>-0.002592</td>\n",
              "      <td>0.002861</td>\n",
              "      <td>-0.025930</td>\n",
              "      <td>141.0</td>\n",
              "    </tr>\n",
              "    <tr>\n",
              "      <th>3</th>\n",
              "      <td>-0.089063</td>\n",
              "      <td>-0.044642</td>\n",
              "      <td>-0.011595</td>\n",
              "      <td>-0.036656</td>\n",
              "      <td>0.012191</td>\n",
              "      <td>0.024991</td>\n",
              "      <td>-0.036038</td>\n",
              "      <td>0.034309</td>\n",
              "      <td>0.022688</td>\n",
              "      <td>-0.009362</td>\n",
              "      <td>206.0</td>\n",
              "    </tr>\n",
              "    <tr>\n",
              "      <th>4</th>\n",
              "      <td>0.005383</td>\n",
              "      <td>-0.044642</td>\n",
              "      <td>-0.036385</td>\n",
              "      <td>0.021872</td>\n",
              "      <td>0.003935</td>\n",
              "      <td>0.015596</td>\n",
              "      <td>0.008142</td>\n",
              "      <td>-0.002592</td>\n",
              "      <td>-0.031988</td>\n",
              "      <td>-0.046641</td>\n",
              "      <td>135.0</td>\n",
              "    </tr>\n",
              "  </tbody>\n",
              "</table>\n",
              "</div>\n",
              "    <div class=\"colab-df-buttons\">\n",
              "\n",
              "  <div class=\"colab-df-container\">\n",
              "    <button class=\"colab-df-convert\" onclick=\"convertToInteractive('df-f255dd2f-d665-417d-b014-90663747f2e5')\"\n",
              "            title=\"Convert this dataframe to an interactive table.\"\n",
              "            style=\"display:none;\">\n",
              "\n",
              "  <svg xmlns=\"http://www.w3.org/2000/svg\" height=\"24px\" viewBox=\"0 -960 960 960\">\n",
              "    <path d=\"M120-120v-720h720v720H120Zm60-500h600v-160H180v160Zm220 220h160v-160H400v160Zm0 220h160v-160H400v160ZM180-400h160v-160H180v160Zm440 0h160v-160H620v160ZM180-180h160v-160H180v160Zm440 0h160v-160H620v160Z\"/>\n",
              "  </svg>\n",
              "    </button>\n",
              "\n",
              "  <style>\n",
              "    .colab-df-container {\n",
              "      display:flex;\n",
              "      gap: 12px;\n",
              "    }\n",
              "\n",
              "    .colab-df-convert {\n",
              "      background-color: #E8F0FE;\n",
              "      border: none;\n",
              "      border-radius: 50%;\n",
              "      cursor: pointer;\n",
              "      display: none;\n",
              "      fill: #1967D2;\n",
              "      height: 32px;\n",
              "      padding: 0 0 0 0;\n",
              "      width: 32px;\n",
              "    }\n",
              "\n",
              "    .colab-df-convert:hover {\n",
              "      background-color: #E2EBFA;\n",
              "      box-shadow: 0px 1px 2px rgba(60, 64, 67, 0.3), 0px 1px 3px 1px rgba(60, 64, 67, 0.15);\n",
              "      fill: #174EA6;\n",
              "    }\n",
              "\n",
              "    .colab-df-buttons div {\n",
              "      margin-bottom: 4px;\n",
              "    }\n",
              "\n",
              "    [theme=dark] .colab-df-convert {\n",
              "      background-color: #3B4455;\n",
              "      fill: #D2E3FC;\n",
              "    }\n",
              "\n",
              "    [theme=dark] .colab-df-convert:hover {\n",
              "      background-color: #434B5C;\n",
              "      box-shadow: 0px 1px 3px 1px rgba(0, 0, 0, 0.15);\n",
              "      filter: drop-shadow(0px 1px 2px rgba(0, 0, 0, 0.3));\n",
              "      fill: #FFFFFF;\n",
              "    }\n",
              "  </style>\n",
              "\n",
              "    <script>\n",
              "      const buttonEl =\n",
              "        document.querySelector('#df-f255dd2f-d665-417d-b014-90663747f2e5 button.colab-df-convert');\n",
              "      buttonEl.style.display =\n",
              "        google.colab.kernel.accessAllowed ? 'block' : 'none';\n",
              "\n",
              "      async function convertToInteractive(key) {\n",
              "        const element = document.querySelector('#df-f255dd2f-d665-417d-b014-90663747f2e5');\n",
              "        const dataTable =\n",
              "          await google.colab.kernel.invokeFunction('convertToInteractive',\n",
              "                                                    [key], {});\n",
              "        if (!dataTable) return;\n",
              "\n",
              "        const docLinkHtml = 'Like what you see? Visit the ' +\n",
              "          '<a target=\"_blank\" href=https://colab.research.google.com/notebooks/data_table.ipynb>data table notebook</a>'\n",
              "          + ' to learn more about interactive tables.';\n",
              "        element.innerHTML = '';\n",
              "        dataTable['output_type'] = 'display_data';\n",
              "        await google.colab.output.renderOutput(dataTable, element);\n",
              "        const docLink = document.createElement('div');\n",
              "        docLink.innerHTML = docLinkHtml;\n",
              "        element.appendChild(docLink);\n",
              "      }\n",
              "    </script>\n",
              "  </div>\n",
              "\n",
              "\n",
              "<div id=\"df-1cc6b8b6-1ecb-41db-acca-9884c644edcd\">\n",
              "  <button class=\"colab-df-quickchart\" onclick=\"quickchart('df-1cc6b8b6-1ecb-41db-acca-9884c644edcd')\"\n",
              "            title=\"Suggest charts\"\n",
              "            style=\"display:none;\">\n",
              "\n",
              "<svg xmlns=\"http://www.w3.org/2000/svg\" height=\"24px\"viewBox=\"0 0 24 24\"\n",
              "     width=\"24px\">\n",
              "    <g>\n",
              "        <path d=\"M19 3H5c-1.1 0-2 .9-2 2v14c0 1.1.9 2 2 2h14c1.1 0 2-.9 2-2V5c0-1.1-.9-2-2-2zM9 17H7v-7h2v7zm4 0h-2V7h2v10zm4 0h-2v-4h2v4z\"/>\n",
              "    </g>\n",
              "</svg>\n",
              "  </button>\n",
              "\n",
              "<style>\n",
              "  .colab-df-quickchart {\n",
              "      --bg-color: #E8F0FE;\n",
              "      --fill-color: #1967D2;\n",
              "      --hover-bg-color: #E2EBFA;\n",
              "      --hover-fill-color: #174EA6;\n",
              "      --disabled-fill-color: #AAA;\n",
              "      --disabled-bg-color: #DDD;\n",
              "  }\n",
              "\n",
              "  [theme=dark] .colab-df-quickchart {\n",
              "      --bg-color: #3B4455;\n",
              "      --fill-color: #D2E3FC;\n",
              "      --hover-bg-color: #434B5C;\n",
              "      --hover-fill-color: #FFFFFF;\n",
              "      --disabled-bg-color: #3B4455;\n",
              "      --disabled-fill-color: #666;\n",
              "  }\n",
              "\n",
              "  .colab-df-quickchart {\n",
              "    background-color: var(--bg-color);\n",
              "    border: none;\n",
              "    border-radius: 50%;\n",
              "    cursor: pointer;\n",
              "    display: none;\n",
              "    fill: var(--fill-color);\n",
              "    height: 32px;\n",
              "    padding: 0;\n",
              "    width: 32px;\n",
              "  }\n",
              "\n",
              "  .colab-df-quickchart:hover {\n",
              "    background-color: var(--hover-bg-color);\n",
              "    box-shadow: 0 1px 2px rgba(60, 64, 67, 0.3), 0 1px 3px 1px rgba(60, 64, 67, 0.15);\n",
              "    fill: var(--button-hover-fill-color);\n",
              "  }\n",
              "\n",
              "  .colab-df-quickchart-complete:disabled,\n",
              "  .colab-df-quickchart-complete:disabled:hover {\n",
              "    background-color: var(--disabled-bg-color);\n",
              "    fill: var(--disabled-fill-color);\n",
              "    box-shadow: none;\n",
              "  }\n",
              "\n",
              "  .colab-df-spinner {\n",
              "    border: 2px solid var(--fill-color);\n",
              "    border-color: transparent;\n",
              "    border-bottom-color: var(--fill-color);\n",
              "    animation:\n",
              "      spin 1s steps(1) infinite;\n",
              "  }\n",
              "\n",
              "  @keyframes spin {\n",
              "    0% {\n",
              "      border-color: transparent;\n",
              "      border-bottom-color: var(--fill-color);\n",
              "      border-left-color: var(--fill-color);\n",
              "    }\n",
              "    20% {\n",
              "      border-color: transparent;\n",
              "      border-left-color: var(--fill-color);\n",
              "      border-top-color: var(--fill-color);\n",
              "    }\n",
              "    30% {\n",
              "      border-color: transparent;\n",
              "      border-left-color: var(--fill-color);\n",
              "      border-top-color: var(--fill-color);\n",
              "      border-right-color: var(--fill-color);\n",
              "    }\n",
              "    40% {\n",
              "      border-color: transparent;\n",
              "      border-right-color: var(--fill-color);\n",
              "      border-top-color: var(--fill-color);\n",
              "    }\n",
              "    60% {\n",
              "      border-color: transparent;\n",
              "      border-right-color: var(--fill-color);\n",
              "    }\n",
              "    80% {\n",
              "      border-color: transparent;\n",
              "      border-right-color: var(--fill-color);\n",
              "      border-bottom-color: var(--fill-color);\n",
              "    }\n",
              "    90% {\n",
              "      border-color: transparent;\n",
              "      border-bottom-color: var(--fill-color);\n",
              "    }\n",
              "  }\n",
              "</style>\n",
              "\n",
              "  <script>\n",
              "    async function quickchart(key) {\n",
              "      const quickchartButtonEl =\n",
              "        document.querySelector('#' + key + ' button');\n",
              "      quickchartButtonEl.disabled = true;  // To prevent multiple clicks.\n",
              "      quickchartButtonEl.classList.add('colab-df-spinner');\n",
              "      try {\n",
              "        const charts = await google.colab.kernel.invokeFunction(\n",
              "            'suggestCharts', [key], {});\n",
              "      } catch (error) {\n",
              "        console.error('Error during call to suggestCharts:', error);\n",
              "      }\n",
              "      quickchartButtonEl.classList.remove('colab-df-spinner');\n",
              "      quickchartButtonEl.classList.add('colab-df-quickchart-complete');\n",
              "    }\n",
              "    (() => {\n",
              "      let quickchartButtonEl =\n",
              "        document.querySelector('#df-1cc6b8b6-1ecb-41db-acca-9884c644edcd button');\n",
              "      quickchartButtonEl.style.display =\n",
              "        google.colab.kernel.accessAllowed ? 'block' : 'none';\n",
              "    })();\n",
              "  </script>\n",
              "</div>\n",
              "    </div>\n",
              "  </div>\n"
            ],
            "application/vnd.google.colaboratory.intrinsic+json": {
              "type": "dataframe",
              "variable_name": "df",
              "summary": "{\n  \"name\": \"df\",\n  \"rows\": 442,\n  \"fields\": [\n    {\n      \"column\": \"Age\",\n      \"properties\": {\n        \"dtype\": \"number\",\n        \"std\": 0.047619047619047644,\n        \"min\": -0.1072256316073538,\n        \"max\": 0.11072667545381144,\n        \"num_unique_values\": 58,\n        \"samples\": [\n          0.038075906433423026,\n          -0.09269547780327612,\n          0.01991321417832592\n        ],\n        \"semantic_type\": \"\",\n        \"description\": \"\"\n      }\n    },\n    {\n      \"column\": \"Gender\",\n      \"properties\": {\n        \"dtype\": \"number\",\n        \"std\": 0.047619047619047665,\n        \"min\": -0.044641636506989144,\n        \"max\": 0.05068011873981862,\n        \"num_unique_values\": 2,\n        \"samples\": [\n          -0.044641636506989144,\n          0.05068011873981862\n        ],\n        \"semantic_type\": \"\",\n        \"description\": \"\"\n      }\n    },\n    {\n      \"column\": \"Body mass index\",\n      \"properties\": {\n        \"dtype\": \"number\",\n        \"std\": 0.047619047619047616,\n        \"min\": -0.09027529589850945,\n        \"max\": 0.17055522598064407,\n        \"num_unique_values\": 163,\n        \"samples\": [\n          0.008883414898524095,\n          -0.05470749746044306\n        ],\n        \"semantic_type\": \"\",\n        \"description\": \"\"\n      }\n    },\n    {\n      \"column\": \"Average blood pressure\",\n      \"properties\": {\n        \"dtype\": \"number\",\n        \"std\": 0.047619047619047596,\n        \"min\": -0.11239880254408448,\n        \"max\": 0.13204361674121307,\n        \"num_unique_values\": 100,\n        \"samples\": [\n          0.03333707926361473,\n          0.02531523648988596\n        ],\n        \"semantic_type\": \"\",\n        \"description\": \"\"\n      }\n    },\n    {\n      \"column\": \"Total serum cholesterol\",\n      \"properties\": {\n        \"dtype\": \"number\",\n        \"std\": 0.04761904761904759,\n        \"min\": -0.12678066991651324,\n        \"max\": 0.15391371315651542,\n        \"num_unique_values\": 141,\n        \"samples\": [\n          0.041085578784023497,\n          0.08374011738825825\n        ],\n        \"semantic_type\": \"\",\n        \"description\": \"\"\n      }\n    },\n    {\n      \"column\": \"Low-density lipoproteins\",\n      \"properties\": {\n        \"dtype\": \"number\",\n        \"std\": 0.047619047619047644,\n        \"min\": -0.11561306597939897,\n        \"max\": 0.19878798965729408,\n        \"num_unique_values\": 302,\n        \"samples\": [\n          0.07415490186505921,\n          0.07008397186179521\n        ],\n        \"semantic_type\": \"\",\n        \"description\": \"\"\n      }\n    },\n    {\n      \"column\": \"High-density lipoproteins\",\n      \"properties\": {\n        \"dtype\": \"number\",\n        \"std\": 0.047619047619047596,\n        \"min\": -0.10230705051741597,\n        \"max\": 0.18117906039727852,\n        \"num_unique_values\": 63,\n        \"samples\": [\n          0.09281975309919192,\n          0.15908923357275687\n        ],\n        \"semantic_type\": \"\",\n        \"description\": \"\"\n      }\n    },\n    {\n      \"column\": \"Total cholesterol / HDL cholesterol ratio\",\n      \"properties\": {\n        \"dtype\": \"number\",\n        \"std\": 0.047619047619047616,\n        \"min\": -0.0763945037500033,\n        \"max\": 0.18523444326019867,\n        \"num_unique_values\": 66,\n        \"samples\": [\n          0.08670845052151895,\n          -0.024732934523729287\n        ],\n        \"semantic_type\": \"\",\n        \"description\": \"\"\n      }\n    },\n    {\n      \"column\": \"Log of serum triglycerides level\",\n      \"properties\": {\n        \"dtype\": \"number\",\n        \"std\": 0.047619047619047616,\n        \"min\": -0.12609712083330468,\n        \"max\": 0.13359728192191356,\n        \"num_unique_values\": 184,\n        \"samples\": [\n          -0.07213275338232743,\n          -0.021395309255276825\n        ],\n        \"semantic_type\": \"\",\n        \"description\": \"\"\n      }\n    },\n    {\n      \"column\": \"Blood sugar level\",\n      \"properties\": {\n        \"dtype\": \"number\",\n        \"std\": 0.047619047619047644,\n        \"min\": -0.13776722569000302,\n        \"max\": 0.13561183068907107,\n        \"num_unique_values\": 56,\n        \"samples\": [\n          -0.01764612515980379,\n          -0.09634615654165846\n        ],\n        \"semantic_type\": \"\",\n        \"description\": \"\"\n      }\n    },\n    {\n      \"column\": \"target\",\n      \"properties\": {\n        \"dtype\": \"number\",\n        \"std\": 77.09300453299109,\n        \"min\": 25.0,\n        \"max\": 346.0,\n        \"num_unique_values\": 214,\n        \"samples\": [\n          310.0,\n          140.0\n        ],\n        \"semantic_type\": \"\",\n        \"description\": \"\"\n      }\n    }\n  ]\n}"
            }
          },
          "metadata": {},
          "execution_count": 55
        }
      ],
      "source": [
        "df = load_data()\n",
        "df.head()"
      ]
    },
    {
      "cell_type": "markdown",
      "id": "032966ae",
      "metadata": {
        "id": "032966ae"
      },
      "source": [
        "## Question 2\n",
        "\n",
        "### 2.1\n",
        "\n",
        "Print a data description of all columns of dataframe\n",
        "\n",
        "use `.describe()`"
      ]
    },
    {
      "cell_type": "code",
      "execution_count": null,
      "id": "96cadda0",
      "metadata": {
        "id": "96cadda0"
      },
      "outputs": [],
      "source": [
        "def range_columns(df):\n",
        "    \"\"\"\n",
        "    Function to return the description of the DataFrame.\n",
        "    \"\"\"\n",
        "    return df.describe()"
      ]
    },
    {
      "cell_type": "code",
      "execution_count": null,
      "id": "35b8082d",
      "metadata": {
        "id": "35b8082d",
        "colab": {
          "base_uri": "https://localhost:8080/",
          "height": 387
        },
        "outputId": "b91f21a9-fc9b-4d57-eaa1-a441470fddc9"
      },
      "outputs": [
        {
          "output_type": "execute_result",
          "data": {
            "text/plain": [
              "                Age        Gender  Body mass index  Average blood pressure  \\\n",
              "count  4.420000e+02  4.420000e+02     4.420000e+02            4.420000e+02   \n",
              "mean  -2.511817e-19  1.230790e-17    -2.245564e-16           -4.797570e-17   \n",
              "std    4.761905e-02  4.761905e-02     4.761905e-02            4.761905e-02   \n",
              "min   -1.072256e-01 -4.464164e-02    -9.027530e-02           -1.123988e-01   \n",
              "25%   -3.729927e-02 -4.464164e-02    -3.422907e-02           -3.665608e-02   \n",
              "50%    5.383060e-03 -4.464164e-02    -7.283766e-03           -5.670422e-03   \n",
              "75%    3.807591e-02  5.068012e-02     3.124802e-02            3.564379e-02   \n",
              "max    1.107267e-01  5.068012e-02     1.705552e-01            1.320436e-01   \n",
              "\n",
              "       Total serum cholesterol  Low-density lipoproteins  \\\n",
              "count             4.420000e+02              4.420000e+02   \n",
              "mean             -1.381499e-17              3.918434e-17   \n",
              "std               4.761905e-02              4.761905e-02   \n",
              "min              -1.267807e-01             -1.156131e-01   \n",
              "25%              -3.424784e-02             -3.035840e-02   \n",
              "50%              -4.320866e-03             -3.819065e-03   \n",
              "75%               2.835801e-02              2.984439e-02   \n",
              "max               1.539137e-01              1.987880e-01   \n",
              "\n",
              "       High-density lipoproteins  Total cholesterol / HDL cholesterol ratio  \\\n",
              "count               4.420000e+02                               4.420000e+02   \n",
              "mean               -5.777179e-18                              -9.042540e-18   \n",
              "std                 4.761905e-02                               4.761905e-02   \n",
              "min                -1.023071e-01                              -7.639450e-02   \n",
              "25%                -3.511716e-02                              -3.949338e-02   \n",
              "50%                -6.584468e-03                              -2.592262e-03   \n",
              "75%                 2.931150e-02                               3.430886e-02   \n",
              "max                 1.811791e-01                               1.852344e-01   \n",
              "\n",
              "       Log of serum triglycerides level  Blood sugar level      target  \n",
              "count                      4.420000e+02       4.420000e+02  442.000000  \n",
              "mean                       9.293722e-17       1.130318e-17  152.133484  \n",
              "std                        4.761905e-02       4.761905e-02   77.093005  \n",
              "min                       -1.260971e-01      -1.377672e-01   25.000000  \n",
              "25%                       -3.324559e-02      -3.317903e-02   87.000000  \n",
              "50%                       -1.947171e-03      -1.077698e-03  140.500000  \n",
              "75%                        3.243232e-02       2.791705e-02  211.500000  \n",
              "max                        1.335973e-01       1.356118e-01  346.000000  "
            ],
            "text/html": [
              "\n",
              "  <div id=\"df-26b95d19-bbf5-4099-aed2-b0f5b1285715\" class=\"colab-df-container\">\n",
              "    <div>\n",
              "<style scoped>\n",
              "    .dataframe tbody tr th:only-of-type {\n",
              "        vertical-align: middle;\n",
              "    }\n",
              "\n",
              "    .dataframe tbody tr th {\n",
              "        vertical-align: top;\n",
              "    }\n",
              "\n",
              "    .dataframe thead th {\n",
              "        text-align: right;\n",
              "    }\n",
              "</style>\n",
              "<table border=\"1\" class=\"dataframe\">\n",
              "  <thead>\n",
              "    <tr style=\"text-align: right;\">\n",
              "      <th></th>\n",
              "      <th>Age</th>\n",
              "      <th>Gender</th>\n",
              "      <th>Body mass index</th>\n",
              "      <th>Average blood pressure</th>\n",
              "      <th>Total serum cholesterol</th>\n",
              "      <th>Low-density lipoproteins</th>\n",
              "      <th>High-density lipoproteins</th>\n",
              "      <th>Total cholesterol / HDL cholesterol ratio</th>\n",
              "      <th>Log of serum triglycerides level</th>\n",
              "      <th>Blood sugar level</th>\n",
              "      <th>target</th>\n",
              "    </tr>\n",
              "  </thead>\n",
              "  <tbody>\n",
              "    <tr>\n",
              "      <th>count</th>\n",
              "      <td>4.420000e+02</td>\n",
              "      <td>4.420000e+02</td>\n",
              "      <td>4.420000e+02</td>\n",
              "      <td>4.420000e+02</td>\n",
              "      <td>4.420000e+02</td>\n",
              "      <td>4.420000e+02</td>\n",
              "      <td>4.420000e+02</td>\n",
              "      <td>4.420000e+02</td>\n",
              "      <td>4.420000e+02</td>\n",
              "      <td>4.420000e+02</td>\n",
              "      <td>442.000000</td>\n",
              "    </tr>\n",
              "    <tr>\n",
              "      <th>mean</th>\n",
              "      <td>-2.511817e-19</td>\n",
              "      <td>1.230790e-17</td>\n",
              "      <td>-2.245564e-16</td>\n",
              "      <td>-4.797570e-17</td>\n",
              "      <td>-1.381499e-17</td>\n",
              "      <td>3.918434e-17</td>\n",
              "      <td>-5.777179e-18</td>\n",
              "      <td>-9.042540e-18</td>\n",
              "      <td>9.293722e-17</td>\n",
              "      <td>1.130318e-17</td>\n",
              "      <td>152.133484</td>\n",
              "    </tr>\n",
              "    <tr>\n",
              "      <th>std</th>\n",
              "      <td>4.761905e-02</td>\n",
              "      <td>4.761905e-02</td>\n",
              "      <td>4.761905e-02</td>\n",
              "      <td>4.761905e-02</td>\n",
              "      <td>4.761905e-02</td>\n",
              "      <td>4.761905e-02</td>\n",
              "      <td>4.761905e-02</td>\n",
              "      <td>4.761905e-02</td>\n",
              "      <td>4.761905e-02</td>\n",
              "      <td>4.761905e-02</td>\n",
              "      <td>77.093005</td>\n",
              "    </tr>\n",
              "    <tr>\n",
              "      <th>min</th>\n",
              "      <td>-1.072256e-01</td>\n",
              "      <td>-4.464164e-02</td>\n",
              "      <td>-9.027530e-02</td>\n",
              "      <td>-1.123988e-01</td>\n",
              "      <td>-1.267807e-01</td>\n",
              "      <td>-1.156131e-01</td>\n",
              "      <td>-1.023071e-01</td>\n",
              "      <td>-7.639450e-02</td>\n",
              "      <td>-1.260971e-01</td>\n",
              "      <td>-1.377672e-01</td>\n",
              "      <td>25.000000</td>\n",
              "    </tr>\n",
              "    <tr>\n",
              "      <th>25%</th>\n",
              "      <td>-3.729927e-02</td>\n",
              "      <td>-4.464164e-02</td>\n",
              "      <td>-3.422907e-02</td>\n",
              "      <td>-3.665608e-02</td>\n",
              "      <td>-3.424784e-02</td>\n",
              "      <td>-3.035840e-02</td>\n",
              "      <td>-3.511716e-02</td>\n",
              "      <td>-3.949338e-02</td>\n",
              "      <td>-3.324559e-02</td>\n",
              "      <td>-3.317903e-02</td>\n",
              "      <td>87.000000</td>\n",
              "    </tr>\n",
              "    <tr>\n",
              "      <th>50%</th>\n",
              "      <td>5.383060e-03</td>\n",
              "      <td>-4.464164e-02</td>\n",
              "      <td>-7.283766e-03</td>\n",
              "      <td>-5.670422e-03</td>\n",
              "      <td>-4.320866e-03</td>\n",
              "      <td>-3.819065e-03</td>\n",
              "      <td>-6.584468e-03</td>\n",
              "      <td>-2.592262e-03</td>\n",
              "      <td>-1.947171e-03</td>\n",
              "      <td>-1.077698e-03</td>\n",
              "      <td>140.500000</td>\n",
              "    </tr>\n",
              "    <tr>\n",
              "      <th>75%</th>\n",
              "      <td>3.807591e-02</td>\n",
              "      <td>5.068012e-02</td>\n",
              "      <td>3.124802e-02</td>\n",
              "      <td>3.564379e-02</td>\n",
              "      <td>2.835801e-02</td>\n",
              "      <td>2.984439e-02</td>\n",
              "      <td>2.931150e-02</td>\n",
              "      <td>3.430886e-02</td>\n",
              "      <td>3.243232e-02</td>\n",
              "      <td>2.791705e-02</td>\n",
              "      <td>211.500000</td>\n",
              "    </tr>\n",
              "    <tr>\n",
              "      <th>max</th>\n",
              "      <td>1.107267e-01</td>\n",
              "      <td>5.068012e-02</td>\n",
              "      <td>1.705552e-01</td>\n",
              "      <td>1.320436e-01</td>\n",
              "      <td>1.539137e-01</td>\n",
              "      <td>1.987880e-01</td>\n",
              "      <td>1.811791e-01</td>\n",
              "      <td>1.852344e-01</td>\n",
              "      <td>1.335973e-01</td>\n",
              "      <td>1.356118e-01</td>\n",
              "      <td>346.000000</td>\n",
              "    </tr>\n",
              "  </tbody>\n",
              "</table>\n",
              "</div>\n",
              "    <div class=\"colab-df-buttons\">\n",
              "\n",
              "  <div class=\"colab-df-container\">\n",
              "    <button class=\"colab-df-convert\" onclick=\"convertToInteractive('df-26b95d19-bbf5-4099-aed2-b0f5b1285715')\"\n",
              "            title=\"Convert this dataframe to an interactive table.\"\n",
              "            style=\"display:none;\">\n",
              "\n",
              "  <svg xmlns=\"http://www.w3.org/2000/svg\" height=\"24px\" viewBox=\"0 -960 960 960\">\n",
              "    <path d=\"M120-120v-720h720v720H120Zm60-500h600v-160H180v160Zm220 220h160v-160H400v160Zm0 220h160v-160H400v160ZM180-400h160v-160H180v160Zm440 0h160v-160H620v160ZM180-180h160v-160H180v160Zm440 0h160v-160H620v160Z\"/>\n",
              "  </svg>\n",
              "    </button>\n",
              "\n",
              "  <style>\n",
              "    .colab-df-container {\n",
              "      display:flex;\n",
              "      gap: 12px;\n",
              "    }\n",
              "\n",
              "    .colab-df-convert {\n",
              "      background-color: #E8F0FE;\n",
              "      border: none;\n",
              "      border-radius: 50%;\n",
              "      cursor: pointer;\n",
              "      display: none;\n",
              "      fill: #1967D2;\n",
              "      height: 32px;\n",
              "      padding: 0 0 0 0;\n",
              "      width: 32px;\n",
              "    }\n",
              "\n",
              "    .colab-df-convert:hover {\n",
              "      background-color: #E2EBFA;\n",
              "      box-shadow: 0px 1px 2px rgba(60, 64, 67, 0.3), 0px 1px 3px 1px rgba(60, 64, 67, 0.15);\n",
              "      fill: #174EA6;\n",
              "    }\n",
              "\n",
              "    .colab-df-buttons div {\n",
              "      margin-bottom: 4px;\n",
              "    }\n",
              "\n",
              "    [theme=dark] .colab-df-convert {\n",
              "      background-color: #3B4455;\n",
              "      fill: #D2E3FC;\n",
              "    }\n",
              "\n",
              "    [theme=dark] .colab-df-convert:hover {\n",
              "      background-color: #434B5C;\n",
              "      box-shadow: 0px 1px 3px 1px rgba(0, 0, 0, 0.15);\n",
              "      filter: drop-shadow(0px 1px 2px rgba(0, 0, 0, 0.3));\n",
              "      fill: #FFFFFF;\n",
              "    }\n",
              "  </style>\n",
              "\n",
              "    <script>\n",
              "      const buttonEl =\n",
              "        document.querySelector('#df-26b95d19-bbf5-4099-aed2-b0f5b1285715 button.colab-df-convert');\n",
              "      buttonEl.style.display =\n",
              "        google.colab.kernel.accessAllowed ? 'block' : 'none';\n",
              "\n",
              "      async function convertToInteractive(key) {\n",
              "        const element = document.querySelector('#df-26b95d19-bbf5-4099-aed2-b0f5b1285715');\n",
              "        const dataTable =\n",
              "          await google.colab.kernel.invokeFunction('convertToInteractive',\n",
              "                                                    [key], {});\n",
              "        if (!dataTable) return;\n",
              "\n",
              "        const docLinkHtml = 'Like what you see? Visit the ' +\n",
              "          '<a target=\"_blank\" href=https://colab.research.google.com/notebooks/data_table.ipynb>data table notebook</a>'\n",
              "          + ' to learn more about interactive tables.';\n",
              "        element.innerHTML = '';\n",
              "        dataTable['output_type'] = 'display_data';\n",
              "        await google.colab.output.renderOutput(dataTable, element);\n",
              "        const docLink = document.createElement('div');\n",
              "        docLink.innerHTML = docLinkHtml;\n",
              "        element.appendChild(docLink);\n",
              "      }\n",
              "    </script>\n",
              "  </div>\n",
              "\n",
              "\n",
              "<div id=\"df-89b56dfd-5b06-48e4-a540-5bef73dc0e12\">\n",
              "  <button class=\"colab-df-quickchart\" onclick=\"quickchart('df-89b56dfd-5b06-48e4-a540-5bef73dc0e12')\"\n",
              "            title=\"Suggest charts\"\n",
              "            style=\"display:none;\">\n",
              "\n",
              "<svg xmlns=\"http://www.w3.org/2000/svg\" height=\"24px\"viewBox=\"0 0 24 24\"\n",
              "     width=\"24px\">\n",
              "    <g>\n",
              "        <path d=\"M19 3H5c-1.1 0-2 .9-2 2v14c0 1.1.9 2 2 2h14c1.1 0 2-.9 2-2V5c0-1.1-.9-2-2-2zM9 17H7v-7h2v7zm4 0h-2V7h2v10zm4 0h-2v-4h2v4z\"/>\n",
              "    </g>\n",
              "</svg>\n",
              "  </button>\n",
              "\n",
              "<style>\n",
              "  .colab-df-quickchart {\n",
              "      --bg-color: #E8F0FE;\n",
              "      --fill-color: #1967D2;\n",
              "      --hover-bg-color: #E2EBFA;\n",
              "      --hover-fill-color: #174EA6;\n",
              "      --disabled-fill-color: #AAA;\n",
              "      --disabled-bg-color: #DDD;\n",
              "  }\n",
              "\n",
              "  [theme=dark] .colab-df-quickchart {\n",
              "      --bg-color: #3B4455;\n",
              "      --fill-color: #D2E3FC;\n",
              "      --hover-bg-color: #434B5C;\n",
              "      --hover-fill-color: #FFFFFF;\n",
              "      --disabled-bg-color: #3B4455;\n",
              "      --disabled-fill-color: #666;\n",
              "  }\n",
              "\n",
              "  .colab-df-quickchart {\n",
              "    background-color: var(--bg-color);\n",
              "    border: none;\n",
              "    border-radius: 50%;\n",
              "    cursor: pointer;\n",
              "    display: none;\n",
              "    fill: var(--fill-color);\n",
              "    height: 32px;\n",
              "    padding: 0;\n",
              "    width: 32px;\n",
              "  }\n",
              "\n",
              "  .colab-df-quickchart:hover {\n",
              "    background-color: var(--hover-bg-color);\n",
              "    box-shadow: 0 1px 2px rgba(60, 64, 67, 0.3), 0 1px 3px 1px rgba(60, 64, 67, 0.15);\n",
              "    fill: var(--button-hover-fill-color);\n",
              "  }\n",
              "\n",
              "  .colab-df-quickchart-complete:disabled,\n",
              "  .colab-df-quickchart-complete:disabled:hover {\n",
              "    background-color: var(--disabled-bg-color);\n",
              "    fill: var(--disabled-fill-color);\n",
              "    box-shadow: none;\n",
              "  }\n",
              "\n",
              "  .colab-df-spinner {\n",
              "    border: 2px solid var(--fill-color);\n",
              "    border-color: transparent;\n",
              "    border-bottom-color: var(--fill-color);\n",
              "    animation:\n",
              "      spin 1s steps(1) infinite;\n",
              "  }\n",
              "\n",
              "  @keyframes spin {\n",
              "    0% {\n",
              "      border-color: transparent;\n",
              "      border-bottom-color: var(--fill-color);\n",
              "      border-left-color: var(--fill-color);\n",
              "    }\n",
              "    20% {\n",
              "      border-color: transparent;\n",
              "      border-left-color: var(--fill-color);\n",
              "      border-top-color: var(--fill-color);\n",
              "    }\n",
              "    30% {\n",
              "      border-color: transparent;\n",
              "      border-left-color: var(--fill-color);\n",
              "      border-top-color: var(--fill-color);\n",
              "      border-right-color: var(--fill-color);\n",
              "    }\n",
              "    40% {\n",
              "      border-color: transparent;\n",
              "      border-right-color: var(--fill-color);\n",
              "      border-top-color: var(--fill-color);\n",
              "    }\n",
              "    60% {\n",
              "      border-color: transparent;\n",
              "      border-right-color: var(--fill-color);\n",
              "    }\n",
              "    80% {\n",
              "      border-color: transparent;\n",
              "      border-right-color: var(--fill-color);\n",
              "      border-bottom-color: var(--fill-color);\n",
              "    }\n",
              "    90% {\n",
              "      border-color: transparent;\n",
              "      border-bottom-color: var(--fill-color);\n",
              "    }\n",
              "  }\n",
              "</style>\n",
              "\n",
              "  <script>\n",
              "    async function quickchart(key) {\n",
              "      const quickchartButtonEl =\n",
              "        document.querySelector('#' + key + ' button');\n",
              "      quickchartButtonEl.disabled = true;  // To prevent multiple clicks.\n",
              "      quickchartButtonEl.classList.add('colab-df-spinner');\n",
              "      try {\n",
              "        const charts = await google.colab.kernel.invokeFunction(\n",
              "            'suggestCharts', [key], {});\n",
              "      } catch (error) {\n",
              "        console.error('Error during call to suggestCharts:', error);\n",
              "      }\n",
              "      quickchartButtonEl.classList.remove('colab-df-spinner');\n",
              "      quickchartButtonEl.classList.add('colab-df-quickchart-complete');\n",
              "    }\n",
              "    (() => {\n",
              "      let quickchartButtonEl =\n",
              "        document.querySelector('#df-89b56dfd-5b06-48e4-a540-5bef73dc0e12 button');\n",
              "      quickchartButtonEl.style.display =\n",
              "        google.colab.kernel.accessAllowed ? 'block' : 'none';\n",
              "    })();\n",
              "  </script>\n",
              "</div>\n",
              "    </div>\n",
              "  </div>\n"
            ],
            "application/vnd.google.colaboratory.intrinsic+json": {
              "type": "dataframe",
              "summary": "{\n  \"name\": \"range_columns(df)\",\n  \"rows\": 8,\n  \"fields\": [\n    {\n      \"column\": \"Age\",\n      \"properties\": {\n        \"dtype\": \"number\",\n        \"std\": 156.26771856938916,\n        \"min\": -0.1072256316073538,\n        \"max\": 442.0,\n        \"num_unique_values\": 8,\n        \"samples\": [\n          -2.511816797794472e-19,\n          0.005383060374248237,\n          442.0\n        ],\n        \"semantic_type\": \"\",\n        \"description\": \"\"\n      }\n    },\n    {\n      \"column\": \"Gender\",\n      \"properties\": {\n        \"dtype\": \"number\",\n        \"std\": 156.26984438387296,\n        \"min\": -0.044641636506989144,\n        \"max\": 442.0,\n        \"num_unique_values\": 5,\n        \"samples\": [\n          1.2307902309192911e-17,\n          0.05068011873981862,\n          0.047619047619047665\n        ],\n        \"semantic_type\": \"\",\n        \"description\": \"\"\n      }\n    },\n    {\n      \"column\": \"Body mass index\",\n      \"properties\": {\n        \"dtype\": \"number\",\n        \"std\": 156.26467538082832,\n        \"min\": -0.09027529589850945,\n        \"max\": 442.0,\n        \"num_unique_values\": 8,\n        \"samples\": [\n          -2.2455642172282577e-16,\n          -0.007283766209687899,\n          442.0\n        ],\n        \"semantic_type\": \"\",\n        \"description\": \"\"\n      }\n    },\n    {\n      \"column\": \"Average blood pressure\",\n      \"properties\": {\n        \"dtype\": \"number\",\n        \"std\": 156.26755458292146,\n        \"min\": -0.11239880254408448,\n        \"max\": 442.0,\n        \"num_unique_values\": 8,\n        \"samples\": [\n          -4.7975700837874414e-17,\n          -0.00567042229275739,\n          442.0\n        ],\n        \"semantic_type\": \"\",\n        \"description\": \"\"\n      }\n    },\n    {\n      \"column\": \"Total serum cholesterol\",\n      \"properties\": {\n        \"dtype\": \"number\",\n        \"std\": 156.26735866123312,\n        \"min\": -0.12678066991651324,\n        \"max\": 442.0,\n        \"num_unique_values\": 8,\n        \"samples\": [\n          -1.3814992387869595e-17,\n          -0.004320865536613489,\n          442.0\n        ],\n        \"semantic_type\": \"\",\n        \"description\": \"\"\n      }\n    },\n    {\n      \"column\": \"Low-density lipoproteins\",\n      \"properties\": {\n        \"dtype\": \"number\",\n        \"std\": 156.26423640225082,\n        \"min\": -0.11561306597939897,\n        \"max\": 442.0,\n        \"num_unique_values\": 8,\n        \"samples\": [\n          3.918434204559376e-17,\n          -0.0038190651205350003,\n          442.0\n        ],\n        \"semantic_type\": \"\",\n        \"description\": \"\"\n      }\n    },\n    {\n      \"column\": \"High-density lipoproteins\",\n      \"properties\": {\n        \"dtype\": \"number\",\n        \"std\": 156.2648566265984,\n        \"min\": -0.10230705051741597,\n        \"max\": 442.0,\n        \"num_unique_values\": 8,\n        \"samples\": [\n          -5.7771786349272854e-18,\n          -0.006584467611155497,\n          442.0\n        ],\n        \"semantic_type\": \"\",\n        \"description\": \"\"\n      }\n    },\n    {\n      \"column\": \"Total cholesterol / HDL cholesterol ratio\",\n      \"properties\": {\n        \"dtype\": \"number\",\n        \"std\": 156.26310825587572,\n        \"min\": -0.0763945037500033,\n        \"max\": 442.0,\n        \"num_unique_values\": 8,\n        \"samples\": [\n          -9.042540472060099e-18,\n          -0.002592261998183278,\n          442.0\n        ],\n        \"semantic_type\": \"\",\n        \"description\": \"\"\n      }\n    },\n    {\n      \"column\": \"Log of serum triglycerides level\",\n      \"properties\": {\n        \"dtype\": \"number\",\n        \"std\": 156.2679713964532,\n        \"min\": -0.12609712083330468,\n        \"max\": 442.0,\n        \"num_unique_values\": 8,\n        \"samples\": [\n          9.293722151839546e-17,\n          -0.0019471710869220743,\n          442.0\n        ],\n        \"semantic_type\": \"\",\n        \"description\": \"\"\n      }\n    },\n    {\n      \"column\": \"Blood sugar level\",\n      \"properties\": {\n        \"dtype\": \"number\",\n        \"std\": 156.2686414608801,\n        \"min\": -0.13776722569000302,\n        \"max\": 442.0,\n        \"num_unique_values\": 8,\n        \"samples\": [\n          1.1303175590075123e-17,\n          -0.0010776975004659671,\n          442.0\n        ],\n        \"semantic_type\": \"\",\n        \"description\": \"\"\n      }\n    },\n    {\n      \"column\": \"target\",\n      \"properties\": {\n        \"dtype\": \"number\",\n        \"std\": 142.71872411929326,\n        \"min\": 25.0,\n        \"max\": 442.0,\n        \"num_unique_values\": 8,\n        \"samples\": [\n          152.13348416289594,\n          140.5,\n          442.0\n        ],\n        \"semantic_type\": \"\",\n        \"description\": \"\"\n      }\n    }\n  ]\n}"
            }
          },
          "metadata": {},
          "execution_count": 34
        }
      ],
      "source": [
        "range_columns(df)"
      ]
    },
    {
      "cell_type": "markdown",
      "id": "abffa2ed",
      "metadata": {
        "id": "abffa2ed"
      },
      "source": [
        "### 2.2\n",
        "\n",
        "Remove all categorical features from dataframe. Function should return the new dataframe."
      ]
    },
    {
      "cell_type": "code",
      "execution_count": null,
      "id": "63c42ca2",
      "metadata": {
        "id": "63c42ca2"
      },
      "outputs": [],
      "source": [
        "def drop_categorical(df):\n",
        "  df_dropped = df.drop(columns=['Gender'], errors='ignore')\n",
        "  return df_dropped\n"
      ]
    },
    {
      "cell_type": "code",
      "execution_count": null,
      "id": "6a72b1e9",
      "metadata": {
        "id": "6a72b1e9"
      },
      "outputs": [],
      "source": [
        "df = drop_categorical(df)"
      ]
    },
    {
      "cell_type": "code",
      "execution_count": null,
      "id": "8df4cf1e",
      "metadata": {
        "id": "8df4cf1e",
        "colab": {
          "base_uri": "https://localhost:8080/",
          "height": 223
        },
        "outputId": "7865953d-ffff-4009-ed1b-849d6b22c975"
      },
      "outputs": [
        {
          "output_type": "execute_result",
          "data": {
            "text/plain": [
              "        Age  Body mass index  Average blood pressure  Total serum cholesterol  \\\n",
              "0  0.038076         0.061696                0.021872                -0.044223   \n",
              "1 -0.001882        -0.051474               -0.026328                -0.008449   \n",
              "2  0.085299         0.044451               -0.005670                -0.045599   \n",
              "3 -0.089063        -0.011595               -0.036656                 0.012191   \n",
              "4  0.005383        -0.036385                0.021872                 0.003935   \n",
              "\n",
              "   Low-density lipoproteins  High-density lipoproteins  \\\n",
              "0                 -0.034821                  -0.043401   \n",
              "1                 -0.019163                   0.074412   \n",
              "2                 -0.034194                  -0.032356   \n",
              "3                  0.024991                  -0.036038   \n",
              "4                  0.015596                   0.008142   \n",
              "\n",
              "   Total cholesterol / HDL cholesterol ratio  \\\n",
              "0                                  -0.002592   \n",
              "1                                  -0.039493   \n",
              "2                                  -0.002592   \n",
              "3                                   0.034309   \n",
              "4                                  -0.002592   \n",
              "\n",
              "   Log of serum triglycerides level  Blood sugar level  target  \n",
              "0                          0.019907          -0.017646   151.0  \n",
              "1                         -0.068332          -0.092204    75.0  \n",
              "2                          0.002861          -0.025930   141.0  \n",
              "3                          0.022688          -0.009362   206.0  \n",
              "4                         -0.031988          -0.046641   135.0  "
            ],
            "text/html": [
              "\n",
              "  <div id=\"df-222bec22-778e-401c-8b8b-54f3989f03a6\" class=\"colab-df-container\">\n",
              "    <div>\n",
              "<style scoped>\n",
              "    .dataframe tbody tr th:only-of-type {\n",
              "        vertical-align: middle;\n",
              "    }\n",
              "\n",
              "    .dataframe tbody tr th {\n",
              "        vertical-align: top;\n",
              "    }\n",
              "\n",
              "    .dataframe thead th {\n",
              "        text-align: right;\n",
              "    }\n",
              "</style>\n",
              "<table border=\"1\" class=\"dataframe\">\n",
              "  <thead>\n",
              "    <tr style=\"text-align: right;\">\n",
              "      <th></th>\n",
              "      <th>Age</th>\n",
              "      <th>Body mass index</th>\n",
              "      <th>Average blood pressure</th>\n",
              "      <th>Total serum cholesterol</th>\n",
              "      <th>Low-density lipoproteins</th>\n",
              "      <th>High-density lipoproteins</th>\n",
              "      <th>Total cholesterol / HDL cholesterol ratio</th>\n",
              "      <th>Log of serum triglycerides level</th>\n",
              "      <th>Blood sugar level</th>\n",
              "      <th>target</th>\n",
              "    </tr>\n",
              "  </thead>\n",
              "  <tbody>\n",
              "    <tr>\n",
              "      <th>0</th>\n",
              "      <td>0.038076</td>\n",
              "      <td>0.061696</td>\n",
              "      <td>0.021872</td>\n",
              "      <td>-0.044223</td>\n",
              "      <td>-0.034821</td>\n",
              "      <td>-0.043401</td>\n",
              "      <td>-0.002592</td>\n",
              "      <td>0.019907</td>\n",
              "      <td>-0.017646</td>\n",
              "      <td>151.0</td>\n",
              "    </tr>\n",
              "    <tr>\n",
              "      <th>1</th>\n",
              "      <td>-0.001882</td>\n",
              "      <td>-0.051474</td>\n",
              "      <td>-0.026328</td>\n",
              "      <td>-0.008449</td>\n",
              "      <td>-0.019163</td>\n",
              "      <td>0.074412</td>\n",
              "      <td>-0.039493</td>\n",
              "      <td>-0.068332</td>\n",
              "      <td>-0.092204</td>\n",
              "      <td>75.0</td>\n",
              "    </tr>\n",
              "    <tr>\n",
              "      <th>2</th>\n",
              "      <td>0.085299</td>\n",
              "      <td>0.044451</td>\n",
              "      <td>-0.005670</td>\n",
              "      <td>-0.045599</td>\n",
              "      <td>-0.034194</td>\n",
              "      <td>-0.032356</td>\n",
              "      <td>-0.002592</td>\n",
              "      <td>0.002861</td>\n",
              "      <td>-0.025930</td>\n",
              "      <td>141.0</td>\n",
              "    </tr>\n",
              "    <tr>\n",
              "      <th>3</th>\n",
              "      <td>-0.089063</td>\n",
              "      <td>-0.011595</td>\n",
              "      <td>-0.036656</td>\n",
              "      <td>0.012191</td>\n",
              "      <td>0.024991</td>\n",
              "      <td>-0.036038</td>\n",
              "      <td>0.034309</td>\n",
              "      <td>0.022688</td>\n",
              "      <td>-0.009362</td>\n",
              "      <td>206.0</td>\n",
              "    </tr>\n",
              "    <tr>\n",
              "      <th>4</th>\n",
              "      <td>0.005383</td>\n",
              "      <td>-0.036385</td>\n",
              "      <td>0.021872</td>\n",
              "      <td>0.003935</td>\n",
              "      <td>0.015596</td>\n",
              "      <td>0.008142</td>\n",
              "      <td>-0.002592</td>\n",
              "      <td>-0.031988</td>\n",
              "      <td>-0.046641</td>\n",
              "      <td>135.0</td>\n",
              "    </tr>\n",
              "  </tbody>\n",
              "</table>\n",
              "</div>\n",
              "    <div class=\"colab-df-buttons\">\n",
              "\n",
              "  <div class=\"colab-df-container\">\n",
              "    <button class=\"colab-df-convert\" onclick=\"convertToInteractive('df-222bec22-778e-401c-8b8b-54f3989f03a6')\"\n",
              "            title=\"Convert this dataframe to an interactive table.\"\n",
              "            style=\"display:none;\">\n",
              "\n",
              "  <svg xmlns=\"http://www.w3.org/2000/svg\" height=\"24px\" viewBox=\"0 -960 960 960\">\n",
              "    <path d=\"M120-120v-720h720v720H120Zm60-500h600v-160H180v160Zm220 220h160v-160H400v160Zm0 220h160v-160H400v160ZM180-400h160v-160H180v160Zm440 0h160v-160H620v160ZM180-180h160v-160H180v160Zm440 0h160v-160H620v160Z\"/>\n",
              "  </svg>\n",
              "    </button>\n",
              "\n",
              "  <style>\n",
              "    .colab-df-container {\n",
              "      display:flex;\n",
              "      gap: 12px;\n",
              "    }\n",
              "\n",
              "    .colab-df-convert {\n",
              "      background-color: #E8F0FE;\n",
              "      border: none;\n",
              "      border-radius: 50%;\n",
              "      cursor: pointer;\n",
              "      display: none;\n",
              "      fill: #1967D2;\n",
              "      height: 32px;\n",
              "      padding: 0 0 0 0;\n",
              "      width: 32px;\n",
              "    }\n",
              "\n",
              "    .colab-df-convert:hover {\n",
              "      background-color: #E2EBFA;\n",
              "      box-shadow: 0px 1px 2px rgba(60, 64, 67, 0.3), 0px 1px 3px 1px rgba(60, 64, 67, 0.15);\n",
              "      fill: #174EA6;\n",
              "    }\n",
              "\n",
              "    .colab-df-buttons div {\n",
              "      margin-bottom: 4px;\n",
              "    }\n",
              "\n",
              "    [theme=dark] .colab-df-convert {\n",
              "      background-color: #3B4455;\n",
              "      fill: #D2E3FC;\n",
              "    }\n",
              "\n",
              "    [theme=dark] .colab-df-convert:hover {\n",
              "      background-color: #434B5C;\n",
              "      box-shadow: 0px 1px 3px 1px rgba(0, 0, 0, 0.15);\n",
              "      filter: drop-shadow(0px 1px 2px rgba(0, 0, 0, 0.3));\n",
              "      fill: #FFFFFF;\n",
              "    }\n",
              "  </style>\n",
              "\n",
              "    <script>\n",
              "      const buttonEl =\n",
              "        document.querySelector('#df-222bec22-778e-401c-8b8b-54f3989f03a6 button.colab-df-convert');\n",
              "      buttonEl.style.display =\n",
              "        google.colab.kernel.accessAllowed ? 'block' : 'none';\n",
              "\n",
              "      async function convertToInteractive(key) {\n",
              "        const element = document.querySelector('#df-222bec22-778e-401c-8b8b-54f3989f03a6');\n",
              "        const dataTable =\n",
              "          await google.colab.kernel.invokeFunction('convertToInteractive',\n",
              "                                                    [key], {});\n",
              "        if (!dataTable) return;\n",
              "\n",
              "        const docLinkHtml = 'Like what you see? Visit the ' +\n",
              "          '<a target=\"_blank\" href=https://colab.research.google.com/notebooks/data_table.ipynb>data table notebook</a>'\n",
              "          + ' to learn more about interactive tables.';\n",
              "        element.innerHTML = '';\n",
              "        dataTable['output_type'] = 'display_data';\n",
              "        await google.colab.output.renderOutput(dataTable, element);\n",
              "        const docLink = document.createElement('div');\n",
              "        docLink.innerHTML = docLinkHtml;\n",
              "        element.appendChild(docLink);\n",
              "      }\n",
              "    </script>\n",
              "  </div>\n",
              "\n",
              "\n",
              "<div id=\"df-5b614312-b172-460e-bcb8-0ab9e18b5f4b\">\n",
              "  <button class=\"colab-df-quickchart\" onclick=\"quickchart('df-5b614312-b172-460e-bcb8-0ab9e18b5f4b')\"\n",
              "            title=\"Suggest charts\"\n",
              "            style=\"display:none;\">\n",
              "\n",
              "<svg xmlns=\"http://www.w3.org/2000/svg\" height=\"24px\"viewBox=\"0 0 24 24\"\n",
              "     width=\"24px\">\n",
              "    <g>\n",
              "        <path d=\"M19 3H5c-1.1 0-2 .9-2 2v14c0 1.1.9 2 2 2h14c1.1 0 2-.9 2-2V5c0-1.1-.9-2-2-2zM9 17H7v-7h2v7zm4 0h-2V7h2v10zm4 0h-2v-4h2v4z\"/>\n",
              "    </g>\n",
              "</svg>\n",
              "  </button>\n",
              "\n",
              "<style>\n",
              "  .colab-df-quickchart {\n",
              "      --bg-color: #E8F0FE;\n",
              "      --fill-color: #1967D2;\n",
              "      --hover-bg-color: #E2EBFA;\n",
              "      --hover-fill-color: #174EA6;\n",
              "      --disabled-fill-color: #AAA;\n",
              "      --disabled-bg-color: #DDD;\n",
              "  }\n",
              "\n",
              "  [theme=dark] .colab-df-quickchart {\n",
              "      --bg-color: #3B4455;\n",
              "      --fill-color: #D2E3FC;\n",
              "      --hover-bg-color: #434B5C;\n",
              "      --hover-fill-color: #FFFFFF;\n",
              "      --disabled-bg-color: #3B4455;\n",
              "      --disabled-fill-color: #666;\n",
              "  }\n",
              "\n",
              "  .colab-df-quickchart {\n",
              "    background-color: var(--bg-color);\n",
              "    border: none;\n",
              "    border-radius: 50%;\n",
              "    cursor: pointer;\n",
              "    display: none;\n",
              "    fill: var(--fill-color);\n",
              "    height: 32px;\n",
              "    padding: 0;\n",
              "    width: 32px;\n",
              "  }\n",
              "\n",
              "  .colab-df-quickchart:hover {\n",
              "    background-color: var(--hover-bg-color);\n",
              "    box-shadow: 0 1px 2px rgba(60, 64, 67, 0.3), 0 1px 3px 1px rgba(60, 64, 67, 0.15);\n",
              "    fill: var(--button-hover-fill-color);\n",
              "  }\n",
              "\n",
              "  .colab-df-quickchart-complete:disabled,\n",
              "  .colab-df-quickchart-complete:disabled:hover {\n",
              "    background-color: var(--disabled-bg-color);\n",
              "    fill: var(--disabled-fill-color);\n",
              "    box-shadow: none;\n",
              "  }\n",
              "\n",
              "  .colab-df-spinner {\n",
              "    border: 2px solid var(--fill-color);\n",
              "    border-color: transparent;\n",
              "    border-bottom-color: var(--fill-color);\n",
              "    animation:\n",
              "      spin 1s steps(1) infinite;\n",
              "  }\n",
              "\n",
              "  @keyframes spin {\n",
              "    0% {\n",
              "      border-color: transparent;\n",
              "      border-bottom-color: var(--fill-color);\n",
              "      border-left-color: var(--fill-color);\n",
              "    }\n",
              "    20% {\n",
              "      border-color: transparent;\n",
              "      border-left-color: var(--fill-color);\n",
              "      border-top-color: var(--fill-color);\n",
              "    }\n",
              "    30% {\n",
              "      border-color: transparent;\n",
              "      border-left-color: var(--fill-color);\n",
              "      border-top-color: var(--fill-color);\n",
              "      border-right-color: var(--fill-color);\n",
              "    }\n",
              "    40% {\n",
              "      border-color: transparent;\n",
              "      border-right-color: var(--fill-color);\n",
              "      border-top-color: var(--fill-color);\n",
              "    }\n",
              "    60% {\n",
              "      border-color: transparent;\n",
              "      border-right-color: var(--fill-color);\n",
              "    }\n",
              "    80% {\n",
              "      border-color: transparent;\n",
              "      border-right-color: var(--fill-color);\n",
              "      border-bottom-color: var(--fill-color);\n",
              "    }\n",
              "    90% {\n",
              "      border-color: transparent;\n",
              "      border-bottom-color: var(--fill-color);\n",
              "    }\n",
              "  }\n",
              "</style>\n",
              "\n",
              "  <script>\n",
              "    async function quickchart(key) {\n",
              "      const quickchartButtonEl =\n",
              "        document.querySelector('#' + key + ' button');\n",
              "      quickchartButtonEl.disabled = true;  // To prevent multiple clicks.\n",
              "      quickchartButtonEl.classList.add('colab-df-spinner');\n",
              "      try {\n",
              "        const charts = await google.colab.kernel.invokeFunction(\n",
              "            'suggestCharts', [key], {});\n",
              "      } catch (error) {\n",
              "        console.error('Error during call to suggestCharts:', error);\n",
              "      }\n",
              "      quickchartButtonEl.classList.remove('colab-df-spinner');\n",
              "      quickchartButtonEl.classList.add('colab-df-quickchart-complete');\n",
              "    }\n",
              "    (() => {\n",
              "      let quickchartButtonEl =\n",
              "        document.querySelector('#df-5b614312-b172-460e-bcb8-0ab9e18b5f4b button');\n",
              "      quickchartButtonEl.style.display =\n",
              "        google.colab.kernel.accessAllowed ? 'block' : 'none';\n",
              "    })();\n",
              "  </script>\n",
              "</div>\n",
              "    </div>\n",
              "  </div>\n"
            ],
            "application/vnd.google.colaboratory.intrinsic+json": {
              "type": "dataframe",
              "variable_name": "df",
              "summary": "{\n  \"name\": \"df\",\n  \"rows\": 442,\n  \"fields\": [\n    {\n      \"column\": \"Age\",\n      \"properties\": {\n        \"dtype\": \"number\",\n        \"std\": 0.047619047619047644,\n        \"min\": -0.1072256316073538,\n        \"max\": 0.11072667545381144,\n        \"num_unique_values\": 58,\n        \"samples\": [\n          0.038075906433423026,\n          -0.09269547780327612,\n          0.01991321417832592\n        ],\n        \"semantic_type\": \"\",\n        \"description\": \"\"\n      }\n    },\n    {\n      \"column\": \"Body mass index\",\n      \"properties\": {\n        \"dtype\": \"number\",\n        \"std\": 0.047619047619047616,\n        \"min\": -0.09027529589850945,\n        \"max\": 0.17055522598064407,\n        \"num_unique_values\": 163,\n        \"samples\": [\n          0.008883414898524095,\n          -0.05470749746044306,\n          0.07462995140525285\n        ],\n        \"semantic_type\": \"\",\n        \"description\": \"\"\n      }\n    },\n    {\n      \"column\": \"Average blood pressure\",\n      \"properties\": {\n        \"dtype\": \"number\",\n        \"std\": 0.047619047619047596,\n        \"min\": -0.11239880254408448,\n        \"max\": 0.13204361674121307,\n        \"num_unique_values\": 100,\n        \"samples\": [\n          0.03333707926361473,\n          0.02531523648988596,\n          0.04597234234498153\n        ],\n        \"semantic_type\": \"\",\n        \"description\": \"\"\n      }\n    },\n    {\n      \"column\": \"Total serum cholesterol\",\n      \"properties\": {\n        \"dtype\": \"number\",\n        \"std\": 0.04761904761904759,\n        \"min\": -0.12678066991651324,\n        \"max\": 0.15391371315651542,\n        \"num_unique_values\": 141,\n        \"samples\": [\n          0.041085578784023497,\n          0.08374011738825825,\n          0.08786797596286161\n        ],\n        \"semantic_type\": \"\",\n        \"description\": \"\"\n      }\n    },\n    {\n      \"column\": \"Low-density lipoproteins\",\n      \"properties\": {\n        \"dtype\": \"number\",\n        \"std\": 0.047619047619047644,\n        \"min\": -0.11561306597939897,\n        \"max\": 0.19878798965729408,\n        \"num_unique_values\": 302,\n        \"samples\": [\n          0.07415490186505921,\n          0.07008397186179521,\n          0.06413415108779408\n        ],\n        \"semantic_type\": \"\",\n        \"description\": \"\"\n      }\n    },\n    {\n      \"column\": \"High-density lipoproteins\",\n      \"properties\": {\n        \"dtype\": \"number\",\n        \"std\": 0.047619047619047596,\n        \"min\": -0.10230705051741597,\n        \"max\": 0.18117906039727852,\n        \"num_unique_values\": 63,\n        \"samples\": [\n          0.09281975309919192,\n          0.15908923357275687,\n          -0.04340084565202491\n        ],\n        \"semantic_type\": \"\",\n        \"description\": \"\"\n      }\n    },\n    {\n      \"column\": \"Total cholesterol / HDL cholesterol ratio\",\n      \"properties\": {\n        \"dtype\": \"number\",\n        \"std\": 0.047619047619047616,\n        \"min\": -0.0763945037500033,\n        \"max\": 0.18523444326019867,\n        \"num_unique_values\": 66,\n        \"samples\": [\n          0.08670845052151895,\n          -0.024732934523729287,\n          -0.002592261998183278\n        ],\n        \"semantic_type\": \"\",\n        \"description\": \"\"\n      }\n    },\n    {\n      \"column\": \"Log of serum triglycerides level\",\n      \"properties\": {\n        \"dtype\": \"number\",\n        \"std\": 0.047619047619047616,\n        \"min\": -0.12609712083330468,\n        \"max\": 0.13359728192191356,\n        \"num_unique_values\": 184,\n        \"samples\": [\n          -0.07213275338232743,\n          -0.021395309255276825,\n          0.0330430695314185\n        ],\n        \"semantic_type\": \"\",\n        \"description\": \"\"\n      }\n    },\n    {\n      \"column\": \"Blood sugar level\",\n      \"properties\": {\n        \"dtype\": \"number\",\n        \"std\": 0.047619047619047644,\n        \"min\": -0.13776722569000302,\n        \"max\": 0.13561183068907107,\n        \"num_unique_values\": 56,\n        \"samples\": [\n          -0.01764612515980379,\n          -0.09634615654165846,\n          -0.07149351505265171\n        ],\n        \"semantic_type\": \"\",\n        \"description\": \"\"\n      }\n    },\n    {\n      \"column\": \"target\",\n      \"properties\": {\n        \"dtype\": \"number\",\n        \"std\": 77.09300453299109,\n        \"min\": 25.0,\n        \"max\": 346.0,\n        \"num_unique_values\": 214,\n        \"samples\": [\n          310.0,\n          140.0,\n          51.0\n        ],\n        \"semantic_type\": \"\",\n        \"description\": \"\"\n      }\n    }\n  ]\n}"
            }
          },
          "metadata": {},
          "execution_count": 58
        }
      ],
      "source": [
        "df.head()"
      ]
    },
    {
      "cell_type": "markdown",
      "id": "1e759935",
      "metadata": {
        "id": "1e759935"
      },
      "source": [
        "## Question 3"
      ]
    },
    {
      "cell_type": "markdown",
      "id": "a5851f68",
      "metadata": {
        "id": "a5851f68"
      },
      "source": [
        "Using `train_test_split`, split `X` and `y` into training and test sets. With 80% training and 10% test.\n",
        "\n",
        "USE `random_state=0`"
      ]
    },
    {
      "cell_type": "code",
      "execution_count": null,
      "id": "8687facc",
      "metadata": {
        "id": "8687facc"
      },
      "outputs": [],
      "source": [
        "def split(df):\n",
        "    \"\"\"\n",
        "    Function should return X_train, X_test, y_train, y_test\n",
        "    \"\"\"\n",
        "    X= df.drop('target', axis=1)\n",
        "\n",
        "    y = df['target']\n",
        "\n",
        "    X_train, X_test, y_train, y_test = train_test_split(X, y, test_size=0.20, random_state=0)\n",
        "\n",
        "    return X_train, X_test, y_train, y_test"
      ]
    },
    {
      "cell_type": "code",
      "execution_count": null,
      "id": "3cd3edeb",
      "metadata": {
        "id": "3cd3edeb"
      },
      "outputs": [],
      "source": [
        "X_train, X_test, y_train, y_test = split(df)"
      ]
    },
    {
      "cell_type": "markdown",
      "id": "d69d9475",
      "metadata": {
        "id": "d69d9475"
      },
      "source": [
        "## Question 5\n",
        "\n",
        "Use scikit-learn standard scaler to standardize training data into 0 mean and 1 std.\n",
        "\n",
        "Function must return the normalized data and the standard scaler object"
      ]
    },
    {
      "cell_type": "code",
      "execution_count": null,
      "id": "9ffa08fc",
      "metadata": {
        "id": "9ffa08fc"
      },
      "outputs": [],
      "source": [
        "from sklearn.preprocessing import StandardScaler\n",
        "def standardize(data):\n",
        "    \"\"\"Standardize a data to 0 mean and 1 std\n",
        "    Return standardized data AND the scaler object\n",
        "    \"\"\"\n",
        "    scaler = StandardScaler()\n",
        "    new_data = scaler.fit_transform(data)\n",
        "\n",
        "    return new_data, scaler\n"
      ]
    },
    {
      "cell_type": "code",
      "execution_count": null,
      "id": "fafba4ed",
      "metadata": {
        "id": "fafba4ed"
      },
      "outputs": [],
      "source": [
        "scaled_X_train, x_scaler = standardize(X_train)"
      ]
    },
    {
      "cell_type": "markdown",
      "id": "e04ea7cc",
      "metadata": {
        "id": "e04ea7cc"
      },
      "source": [
        "- Apply the same transformation to the test data"
      ]
    },
    {
      "cell_type": "code",
      "execution_count": null,
      "id": "73e7e8b8",
      "metadata": {
        "id": "73e7e8b8"
      },
      "outputs": [],
      "source": [
        "scaled_X_test =x_scaler.transform(X_test)\n",
        "scaled_y_test , y_scaler =standardize(y_train.values.reshape(-1, 1))"
      ]
    },
    {
      "cell_type": "markdown",
      "id": "9e92f2a8",
      "metadata": {
        "id": "9e92f2a8"
      },
      "source": [
        "## Question 6\n",
        "\n",
        "Create a scikit-learn regression model and train it on diabetes data.\n",
        "Your function should return the trained model"
      ]
    },
    {
      "cell_type": "code",
      "execution_count": null,
      "id": "bc59d9ff",
      "metadata": {
        "id": "bc59d9ff"
      },
      "outputs": [],
      "source": [
        "from sklearn.linear_model import LinearRegression\n",
        "\n",
        "def regression_sc(X, y):\n",
        "    \"\"\"Trains a linear regression model on X, y data\"\"\"\n",
        "\n",
        "    # Create a Linear Regression model\n",
        "    model = LinearRegression()\n",
        "\n",
        "    # Train the model on the data\n",
        "    model.fit(X, y)\n",
        "\n",
        "    return model\n"
      ]
    },
    {
      "cell_type": "code",
      "execution_count": null,
      "id": "b6355c99",
      "metadata": {
        "id": "b6355c99",
        "colab": {
          "base_uri": "https://localhost:8080/"
        },
        "outputId": "2b43c396-34eb-4a49-bac5-7eb2f378332d"
      },
      "outputs": [
        {
          "output_type": "stream",
          "name": "stdout",
          "text": [
            "linear model coeff (w): [ -2.71717598  29.19053036  11.99182524 -27.87971619  12.73600844\n",
            "   3.19583359   6.43784867  36.12397921   0.98113962]\n",
            "linear model intercept (b): 151.606\n"
          ]
        }
      ],
      "source": [
        "linreg = regression_sc(scaled_X_train, y_train)\n",
        "y_pred = linreg.predict(scaled_X_train)\n",
        "\n",
        "print('linear model coeff (w): {}'.format(linreg.coef_))\n",
        "print('linear model intercept (b): {:.3f}'.format(linreg.intercept_))"
      ]
    },
    {
      "cell_type": "markdown",
      "id": "73ab94e5",
      "metadata": {
        "id": "73ab94e5"
      },
      "source": [
        "- Print the mse, and R2 score for the train data"
      ]
    },
    {
      "cell_type": "code",
      "execution_count": null,
      "id": "a1422b19",
      "metadata": {
        "id": "a1422b19",
        "colab": {
          "base_uri": "https://localhost:8080/"
        },
        "outputId": "f233f34d-cda8-410c-c381-ecf591c8d70d"
      },
      "outputs": [
        {
          "output_type": "stream",
          "name": "stdout",
          "text": [
            "Mean Squared Error (Train): 5817.141818634182\n",
            "R2 Score (Train): 0.05114521023248142\n"
          ]
        },
        {
          "output_type": "stream",
          "name": "stderr",
          "text": [
            "/usr/local/lib/python3.10/dist-packages/sklearn/base.py:432: UserWarning: X has feature names, but LinearRegression was fitted without feature names\n",
            "  warnings.warn(\n"
          ]
        }
      ],
      "source": [
        "from sklearn.metrics import mean_squared_error, r2_score\n",
        "y_pred_train = linreg.predict(X_train)\n",
        "\n",
        "mse_train = mean_squared_error(y_train, y_pred_train)\n",
        "r2_train = r2_score(y_train, y_pred_train)\n",
        "\n",
        "print(\"Mean Squared Error (Train):\", mse_train)\n",
        "print(\"R2 Score (Train):\", r2_train)"
      ]
    },
    {
      "cell_type": "markdown",
      "id": "39cc82c0",
      "metadata": {
        "id": "39cc82c0"
      },
      "source": [
        "- Print the mse, and R2 score for the test data"
      ]
    },
    {
      "cell_type": "code",
      "execution_count": null,
      "id": "aa9912de",
      "metadata": {
        "id": "aa9912de",
        "colab": {
          "base_uri": "https://localhost:8080/"
        },
        "outputId": "2df135d9-8904-453e-9814-d0bf03700631"
      },
      "outputs": [
        {
          "output_type": "stream",
          "name": "stdout",
          "text": [
            "Mean Squared Error (test): 4940.769381245938\n",
            "R2 Score (test): 0.036497720637587494\n"
          ]
        },
        {
          "output_type": "stream",
          "name": "stderr",
          "text": [
            "/usr/local/lib/python3.10/dist-packages/sklearn/base.py:432: UserWarning: X has feature names, but LinearRegression was fitted without feature names\n",
            "  warnings.warn(\n"
          ]
        }
      ],
      "source": [
        "from sklearn.metrics import mean_squared_error, r2_score\n",
        "y_pred_test = linreg.predict(X_test)\n",
        "\n",
        "mse_test = mean_squared_error(y_test, y_pred_test)\n",
        "r2_test = r2_score(y_test, y_pred_test)\n",
        "\n",
        "print(\"Mean Squared Error (test):\", mse_test)\n",
        "print(\"R2 Score (test):\", r2_test)"
      ]
    },
    {
      "cell_type": "markdown",
      "id": "ee67b8fb",
      "metadata": {
        "id": "ee67b8fb"
      },
      "source": [
        "- Comment on the results in terms of data fit"
      ]
    },
    {
      "cell_type": "markdown",
      "id": "9681eef9",
      "metadata": {
        "id": "9681eef9"
      },
      "source": [
        "* Training Data:\n",
        "  * Mean Squared Error (Train): 5817.14\n",
        "\n",
        "   The average squared difference between the predicted values and the actual values on the training data is 5817.14. A lower MSE is desirable, and this value suggests some level of prediction error.\n",
        "   \n",
        "  * R2 Score (Train): 0.0511\n",
        "\n",
        "   The R2 score is 0.0511. This indicates that the linear regression model explains only a small fraction of the variance in the training data.\n",
        "* Test Data:\n",
        "  * Mean Squared Error (Test): 4940.77\n",
        "\n",
        "   The average squared difference between the predicted values and the actual values on the test data is 4940.77. This is similar to the training MSE, suggesting consistency in prediction error between the training and test sets.\n",
        "\n",
        "  * R2 Score (Test): 0.0365\n",
        "\n",
        "   The R2 score for the test data is 0.0365. Similar to the training R2 score, this value is quite low, indicating that the model has limited explanatory power on the test data."
      ]
    }
  ],
  "metadata": {
    "colab": {
      "provenance": []
    },
    "kernelspec": {
      "display_name": "Python 3 (ipykernel)",
      "language": "python",
      "name": "python3"
    },
    "language_info": {
      "codemirror_mode": {
        "name": "ipython",
        "version": 3
      },
      "file_extension": ".py",
      "mimetype": "text/x-python",
      "name": "python",
      "nbconvert_exporter": "python",
      "pygments_lexer": "ipython3",
      "version": "3.11.0"
    }
  },
  "nbformat": 4,
  "nbformat_minor": 5
}